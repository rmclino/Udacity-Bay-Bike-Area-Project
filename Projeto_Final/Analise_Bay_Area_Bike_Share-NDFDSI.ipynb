{
 "cells": [
  {
   "cell_type": "markdown",
   "metadata": {},
   "source": [
    "# Análise da Bay Area Bike Share\n",
    "\n",
    "## Introdução\n",
    "\n",
    "> **Dica**: Seções citadas como esta fornecerão instruções úteis sobre como navegar e usar um notebook do iPython.\n",
    "\n",
    "[Bay Area Bike Share](http://www.bayareabikeshare.com/) é uma empresa que oferece aluguel de bicicletas on-demand para clientes em San Francisco, Redwood City, Palo Alto, Mountain View e San Jose. Os usuários podem desbloquear bicicletas de uma variedade de estações em cada cidade, e devolvê-las em qualquer estação dentro da mesma cidade. Os usuários pagam o serviço por meio de assinatura anual ou pela compra de passes de 3 dias ou 24 horas. Os usuários podem fazer um número ilimitado de viagens. Viagens com menos de trinta minutos de duração não têm custo adicional; Viagens mais longas incorrem em taxas de horas extras.\n",
    "\n",
    "Neste projeto, você vai se colocar no lugar de um analista de dados realizando uma análise exploratória sobre os dados. Você vai dar uma olhada em duas das principais partes do processo de análise de dados: limpeza de dados e análise exploratória. Mas antes que você comece a olhar os dados, pense algumas perguntas que você pode querer fazer sobre os dados. Considere, por exemplo, se você estivesse trabalhando para Bay Area Bike Share: que tipo de informação você gostaria de saber a fim de tomar decisões de negócios mais inteligentes? Ou você pode pensar se você fosse um usuário do serviço de compartilhamento de bicicletas. Que fatores podem influenciar a maneira como você gostaria de usar o serviço?"
   ]
  },
  {
   "cell_type": "markdown",
   "metadata": {},
   "source": [
    "# Sobre este projeto\n",
    "\n",
    "Este é o seu primeiro projeto com a Udacity. Queremos fazer com que você treine os conhecimentos aprendidos durante o curso e que entenda algumas das dificuldades que pode ter quando for aplicar os mesmos. \n",
    "\n",
    "Os principais pontos que serão verificados neste trabalho:\n",
    "\n",
    "- Criação de dicionários e mapeamento de variáveis\n",
    "- Uso de lógica com o `if`\n",
    "- Manipulação de dados e criação de gráficos simples com o `Pandas`\n",
    "\n",
    "*Como conseguir ajuda*: Sugerimos que tente os seguintes canais, nas seguintes ordens:\n",
    "\n",
    "| Tipo de dúvida\\Canais         \t| Google \t| Fórum \t| Slack \t| Email \t|\n",
    "|-------------------------------\t|--------\t|-------\t|-------\t|-------\t|\n",
    "| Programação Pyhon e Pandas    \t| 1      \t| 2     \t| 3     \t|       \t|\n",
    "| Requisitos do projeto         \t|        \t| 1     \t| 2     \t| 3     \t|\n",
    "| Partes específicas do Projeto \t|        \t| 1     \t| 2     \t| 3     \t|\n",
    "\n",
    "Os endereços dos canais são:\n",
    "\n",
    "- Fórum: https://discussions.udacity.com/c/ndfdsi-project\n",
    "- Slack: [udacity-br.slack.com](https://udacity-br.slack.com/messages/C5MT6E3E1)\n",
    "- Email: data-suporte@udacity.com\n",
    "\n",
    "**Espera-se que o estudante entregue este relatório com:**\n",
    "\n",
    "- Todos os TODO feitos, pois eles são essenciais para que o código rode corretamente\n",
    "- Todas as perguntas respondidas. Elas estão identificadas como PERGUNTA em letras grandes.\n",
    "\n",
    "Para entregar este projeto, vá a [sala de aula](https://classroom.udacity.com/nanodegrees/nd110/parts/05e3b1e2-ff23-488f-aaec-caba12ad8ed3/modules/519425b3-ee26-4ecd-a952-f689decef51c/lessons/47133342-a203-4df9-9b9e-69b04408e089/project) e submeta o seu `.ipynb` e um pdf, zipados.\n",
    "\n",
    "> **Dica**: Se você clicar duas vezes nesta célula, você verá o texto se alterar removendo toda a formatação. Isso permite editar este bloco de texto. Este bloco de texto é escrito usando [Markdown](http://daringfireball.net/projects/markdown/syntax), que é uma forma de formatar texto usando cabeçalhos, links, itálico e muitas outras opções. Pressione **Shift** + **Enter** ou **Shift** + **Retorno** para voltar a mostrar o texto formatado."
   ]
  },
  {
   "cell_type": "markdown",
   "metadata": {},
   "source": [
    "# Pergunta 1\n",
    "Escreva pelo menos duas perguntas que você acha que poderiam ser respondidas usando os dados."
   ]
  },
  {
   "cell_type": "markdown",
   "metadata": {},
   "source": [
    "**Resposta**: \n",
    "\n",
    "1. Quais as estações com maior demanda por bikes por tipo de usuário?\n",
    "    - Assim poderia avaliar onde está a demanda e a partir daí avaliar se está sendo atendida adequadamente e onde poderia colocar novas estações para atender mais clientes.       \n",
    "2. Qual o impacto positivo do Bike Share na cidade e na vida dos usuário?\n",
    "    - Do ponto de vista de Marketing eu acharia interessante mostrar aos meus clientes o impacto positivo das bicicletas na cidade e nas suas vidas. O que poderia ser respondido de forma aproximada por quantos kilometros e minutos estão sendo viajados de bike (ao invés de taxi, onibus ou a pé) e como isso impacta:\n",
    "        + em mais tempo livre quando comparamos a diferença de tempo de outros transportes com o da viagem de bicicleta;\n",
    "        + em menos custo quando comparado com outros modais de transporte, o usuario não paga um passe de onibus ou uma corrida de taxi/uber;\n",
    "        + em mais exercício e contato com o ar livre, quantas calorias ele gasta ao invés de pegar um transporte motorizado;\n",
    "        + em menos poluição ao meio ambiente. A bicicleta não emite carbono, comparando com o taxi/Uber ou onibus no caso. \n",
    "    \n",
    "    \n",
    "##### Obs. Na segunda pergunta temos que extrapolar os dados com dados externos para responder efetivamente a pergunta.   \n",
    "   \n",
    "\n"
   ]
  },
  {
   "cell_type": "markdown",
   "metadata": {},
   "source": [
    "## Usando visualizações para comunicar resultados em dados\n",
    "\n",
    "Como um analista de dados, a capacidade de comunicar eficazmente resultados é uma parte fundamental do trabalho. Afinal, sua melhor análise é tão boa quanto sua capacidade de comunicá-la.\n",
    "\n",
    "Em 2014, Bay Area Bike Share realizou um [Open Data Challenge](http://www.bayareabikeshare.com/datachallenge-2014) para incentivar os analistas de dados a criar visualizações com base em seu conjunto de dados aberto. Você criará suas próprias visualizações neste projeto, mas primeiro, dê uma olhada no [vencedor de inscrições para Melhor Análise](http://thfield.github.io/babs/index.html) de Tyler Field. Leia todo o relatório para responder à seguinte pergunta:"
   ]
  },
  {
   "cell_type": "markdown",
   "metadata": {},
   "source": [
    "# Pergunta 2\n",
    "Que visualizações você acha que fornecem as idéias mais interessantes? \n",
    "\n",
    "Selecione duas visualizações de Tyler que forneçam idéias interessantes e que respondam alguma das perguntas da análise de Tyler."
   ]
  },
  {
   "cell_type": "markdown",
   "metadata": {},
   "source": [
    "** Resposta **: \n",
    "\n",
    "1. Na seção **Where do people ride Bike Share? - list of rides for all stations** - a vizualização de um gráfico de barras/funil com as estações com mais saidas e com mais chegadas.\n",
    "2. Na seção **When is Bay Area Bike Share used?** o histograma **Rides by Hour**\n",
    "\n"
   ]
  },
  {
   "cell_type": "markdown",
   "metadata": {},
   "source": [
    "# Pergunta 2.1\n",
    "\n",
    "Quais são as perguntas que foram respondidas com suas visualizações? Porque você as escolheu?"
   ]
  },
  {
   "cell_type": "markdown",
   "metadata": {},
   "source": [
    "** Resposta **: \n",
    "A pergunta **1** é respondida pois temos as estações principais (tanto em relação a saídas e chegadas).\n",
    "\n",
    "Na vizualiação do **Rides by Hour** vemos nitidamente que temos dois públicos presentes, um de usuários locais indo ao trabalho e outro de turistas. Assim apesar de não responder a pergunta **2** podemos crer que seria uma ação positiva, especialemente para os assinantes, os benefícios para cidade e saúde do uso da bicicleta."
   ]
  },
  {
   "cell_type": "markdown",
   "metadata": {},
   "source": [
    "## Data Wrangling (Limpeza de Dados)\n",
    "\n",
    "Agora é a sua vez de explorar os dados. Os [dados abertos](http://www.bayareabikeshare.com/open-data) do Ano 1 e do Ano 2 da página Bay Area Bike Share já foram fornecidos com os materiais do projeto; você não precisa baixar nada extra. O dado vem em três partes: a primeira metade do Ano 1 (arquivos a partir de `201402`), a segunda metade do Ano 1 (arquivos a partir de `201408`) e todo o Ano 2 (arquivos a partir de `201508`). Existem três arquivos de dados principais associados a cada parte: dados de viagem que mostram informações sobre cada viagem no sistema (`*_trip_data.csv`), informações sobre as estações no sistema (`*_station_data.csv`) e dados meteorológicos diários para cada cidade no sistema (`*_weather_data.csv`).\n",
    "\n",
    "\n",
    "Ao lidar com muitos dados, pode ser útil começar trabalhando com apenas uma amostra dos dados. Desta forma, será muito mais fácil verificar se nossos passos da limpeza de dados (Data Wrangling) estão funcionando, pois nosso código demorará menos tempo para ser concluído. Uma vez que estamos satisfeitos com a forma como funcionam as coisas, podemos configurar o processo para trabalhar no conjunto de dados como um todo.\n",
    "\n",
    "Uma vez que a maior parte dos dados está contida na informação de viagem, devemos segmentar a procura de um subconjunto dos dados da viagem para nos ajudar a seguir em frente. Você começará olhando apenas o primeiro mês dos dados da viagem de bicicleta, de 2013-08-29 a 2013-09-30. O código abaixo selecionará os dados da primeira metade do primeiro ano, então escreverá o valor do primeiro mês de dados para um arquivo de saída. Este código explora o fato de que os dados são classificados por data (note que os dois primeiros dias são classificados por tempo de viagem, em vez de serem completamente cronológicos).\n",
    "\n",
    "Primeiro, carregue todos os pacotes e funções que você usará em sua análise executando a primeira célula de código abaixo. Em seguida, execute a segunda célula de código para ler um subconjunto do primeiro arquivo de dados de viagem e escrever um novo arquivo contendo apenas o subconjunto em que inicialmente estamos interessados.\n",
    "\n",
    "> **Dica**: Você pode executar uma célula de código ou renderizar um texto em Markdown clicando na célula e usando o atalho do teclado **Shift** + **Enter** ou **Shift** + **Return**. Alternativamente, uma célula de código pode ser executada usando o botão **Play** na barra de ferramentas (a cima no IPython Notebook) depois de selecioná-la. Enquanto a célula estiver em execução, você verá um asterisco na mensagem à esquerda da célula, ou seja, `In [*]:`. O asterisco mudará para um número para mostrar que a execução foi concluída, Ex: `In [1]`. Se houver saída, ele aparecerá como `Out [1]:`, com um número apropriado para coincidir com o número de \"In\"."
   ]
  },
  {
   "cell_type": "code",
   "execution_count": 4,
   "metadata": {
    "collapsed": true
   },
   "outputs": [],
   "source": [
    "# Importa todas as bibliotecas necessárias\n",
    "%matplotlib inline\n",
    "import csv\n",
    "from datetime import datetime\n",
    "import numpy as np\n",
    "import pandas as pd\n",
    "from babs_datacheck import question_3\n",
    "from babs_visualizations import usage_stats, usage_plot\n",
    "from IPython.display import display"
   ]
  },
  {
   "cell_type": "code",
   "execution_count": 5,
   "metadata": {
    "collapsed": true
   },
   "outputs": [],
   "source": [
    "# definição dos arquivos\n",
    "file_in  = '201402_trip_data.csv'\n",
    "file_out = '201309_trip_data.csv'\n",
    "final_date = '10/1/2013'\n",
    "    \n",
    "with open(file_out, 'w') as f_out, open(file_in, 'r') as f_in:\n",
    "    # configura o leitor de csv\n",
    "    in_reader = csv.reader(f_in)\n",
    "    out_writer = csv.writer(f_out)\n",
    "\n",
    "    # escreve os dados no arquivo de saída até que a data limite seja atingida\n",
    "    while True:\n",
    "        datarow = next(in_reader)\n",
    "        # data de início de das viagens na terceira coluna no formato 'm/d/yyyy HH:MM'\n",
    "        if datarow[2][:9] == final_date:\n",
    "            break\n",
    "        out_writer.writerow(datarow)"
   ]
  },
  {
   "cell_type": "code",
   "execution_count": 6,
   "metadata": {},
   "outputs": [
    {
     "data": {
      "text/html": [
       "<div>\n",
       "<style>\n",
       "    .dataframe thead tr:only-child th {\n",
       "        text-align: right;\n",
       "    }\n",
       "\n",
       "    .dataframe thead th {\n",
       "        text-align: left;\n",
       "    }\n",
       "\n",
       "    .dataframe tbody tr th {\n",
       "        vertical-align: top;\n",
       "    }\n",
       "</style>\n",
       "<table border=\"1\" class=\"dataframe\">\n",
       "  <thead>\n",
       "    <tr style=\"text-align: right;\">\n",
       "      <th></th>\n",
       "      <th>Trip ID</th>\n",
       "      <th>Duration</th>\n",
       "      <th>Start Date</th>\n",
       "      <th>Start Station</th>\n",
       "      <th>Start Terminal</th>\n",
       "      <th>End Date</th>\n",
       "      <th>End Station</th>\n",
       "      <th>End Terminal</th>\n",
       "      <th>Bike #</th>\n",
       "      <th>Subscriber Type</th>\n",
       "      <th>Zip Code</th>\n",
       "    </tr>\n",
       "  </thead>\n",
       "  <tbody>\n",
       "    <tr>\n",
       "      <th>0</th>\n",
       "      <td>432946</td>\n",
       "      <td>406</td>\n",
       "      <td>8/31/2014 22:31</td>\n",
       "      <td>Mountain View Caltrain Station</td>\n",
       "      <td>28</td>\n",
       "      <td>8/31/2014 22:38</td>\n",
       "      <td>Castro Street and El Camino Real</td>\n",
       "      <td>32</td>\n",
       "      <td>17</td>\n",
       "      <td>Subscriber</td>\n",
       "      <td>94040</td>\n",
       "    </tr>\n",
       "    <tr>\n",
       "      <th>1</th>\n",
       "      <td>432945</td>\n",
       "      <td>468</td>\n",
       "      <td>8/31/2014 22:07</td>\n",
       "      <td>Beale at Market</td>\n",
       "      <td>56</td>\n",
       "      <td>8/31/2014 22:15</td>\n",
       "      <td>Market at 4th</td>\n",
       "      <td>76</td>\n",
       "      <td>509</td>\n",
       "      <td>Customer</td>\n",
       "      <td>11231</td>\n",
       "    </tr>\n",
       "    <tr>\n",
       "      <th>2</th>\n",
       "      <td>432944</td>\n",
       "      <td>534</td>\n",
       "      <td>8/31/2014 22:06</td>\n",
       "      <td>Beale at Market</td>\n",
       "      <td>56</td>\n",
       "      <td>8/31/2014 22:15</td>\n",
       "      <td>Market at 4th</td>\n",
       "      <td>76</td>\n",
       "      <td>342</td>\n",
       "      <td>Customer</td>\n",
       "      <td>11231</td>\n",
       "    </tr>\n",
       "    <tr>\n",
       "      <th>3</th>\n",
       "      <td>432942</td>\n",
       "      <td>1041</td>\n",
       "      <td>8/31/2014 21:45</td>\n",
       "      <td>Embarcadero at Sansome</td>\n",
       "      <td>60</td>\n",
       "      <td>8/31/2014 22:02</td>\n",
       "      <td>Steuart at Market</td>\n",
       "      <td>74</td>\n",
       "      <td>603</td>\n",
       "      <td>Customer</td>\n",
       "      <td>94521</td>\n",
       "    </tr>\n",
       "    <tr>\n",
       "      <th>4</th>\n",
       "      <td>432941</td>\n",
       "      <td>1091</td>\n",
       "      <td>8/31/2014 21:44</td>\n",
       "      <td>Embarcadero at Sansome</td>\n",
       "      <td>60</td>\n",
       "      <td>8/31/2014 22:02</td>\n",
       "      <td>Steuart at Market</td>\n",
       "      <td>74</td>\n",
       "      <td>598</td>\n",
       "      <td>Customer</td>\n",
       "      <td>94521</td>\n",
       "    </tr>\n",
       "  </tbody>\n",
       "</table>\n",
       "</div>"
      ],
      "text/plain": [
       "   Trip ID  Duration       Start Date                   Start Station  \\\n",
       "0   432946       406  8/31/2014 22:31  Mountain View Caltrain Station   \n",
       "1   432945       468  8/31/2014 22:07                 Beale at Market   \n",
       "2   432944       534  8/31/2014 22:06                 Beale at Market   \n",
       "3   432942      1041  8/31/2014 21:45          Embarcadero at Sansome   \n",
       "4   432941      1091  8/31/2014 21:44          Embarcadero at Sansome   \n",
       "\n",
       "   Start Terminal         End Date                       End Station  \\\n",
       "0              28  8/31/2014 22:38  Castro Street and El Camino Real   \n",
       "1              56  8/31/2014 22:15                     Market at 4th   \n",
       "2              56  8/31/2014 22:15                     Market at 4th   \n",
       "3              60  8/31/2014 22:02                 Steuart at Market   \n",
       "4              60  8/31/2014 22:02                 Steuart at Market   \n",
       "\n",
       "   End Terminal  Bike # Subscriber Type  Zip Code  \n",
       "0            32      17      Subscriber     94040  \n",
       "1            76     509        Customer     11231  \n",
       "2            76     342        Customer     11231  \n",
       "3            74     603        Customer     94521  \n",
       "4            74     598        Customer     94521  "
      ]
     },
     "metadata": {},
     "output_type": "display_data"
    }
   ],
   "source": [
    "#Criação de função para analise dos outros arquivos\n",
    "def create_sample(file_in, num_sample_rows):\n",
    "    file_out = 'sample_' + str(num_sample_rows) + '_' + file_in \n",
    "    with open(file_out, 'w') as f_out, open(file_in, 'r') as f_in:\n",
    "        # configura o leitor de csv\n",
    "        in_reader = csv.reader(f_in)\n",
    "        out_writer = csv.writer(f_out)\n",
    "        # escreve os dados no arquivo de saída até que a data limite seja atingida\n",
    "        i = 0\n",
    "        while True:\n",
    "            datarow = next(in_reader)\n",
    "            # data de início de das viagens na terceira coluna no formato 'm/d/yyyy HH:MM'\n",
    "            if i > num_sample_rows:\n",
    "                break\n",
    "            out_writer.writerow(datarow)\n",
    "            i += 1\n",
    "\n",
    "file_in  = ['201402_trip_data.csv','201402_station_data.csv','201402_weather_data.csv','201408_trip_data.csv','201408_station_data.csv','201408_weather_data.csv','201508_trip_data.csv','201508_station_data.csv','201508_weather_data.csv']\n",
    "num_sample_rows = 20\n",
    "for file in file_in:\n",
    "    create_sample(file ,num_sample_rows)\n",
    "\n",
    "sample_data_test = pd.read_csv('sample_20_201408_trip_data.csv') \n",
    "len(sample_data_test)\n",
    "display(sample_data_test.head())"
   ]
  },
  {
   "cell_type": "code",
   "execution_count": 296,
   "metadata": {},
   "outputs": [
    {
     "name": "stdout",
     "output_type": "stream",
     "text": [
      "sample_20_201402_station_data\n",
      "sample_20_201402_trip_data\n",
      "sample_20_201402_weather_data\n",
      "sample_20_201408_station_data\n",
      "sample_20_201408_trip_data\n",
      "sample_20_201408_weather_data\n",
      "sample_20_201508_station_data\n",
      "sample_20_201508_trip_data\n",
      "sample_20_201508_weather_data\n"
     ]
    }
   ],
   "source": [
    "# Extra Criando uma função para criar arquivos curtos para analisar os dados\n",
    "import os\n",
    "sample_dataframes = []\n",
    "files = [f for f in os.listdir('.') if os.path.isfile(f)]\n",
    "for f in files:\n",
    "    if f[:9] == 'sample_' + str(num_sample_rows):\n",
    "        #tirando .CSV do arquivo\n",
    "        print f[:-4]\n",
    "        \n",
    "        #Importando pro Pandas os arquivos criados\n",
    "        vars()[f[:-4]] = pd.read_csv(f)\n",
    "        sample_dataframes.append(vars()[f[:-4]])"
   ]
  },
  {
   "cell_type": "code",
   "execution_count": 298,
   "metadata": {},
   "outputs": [
    {
     "name": "stdout",
     "output_type": "stream",
     "text": [
      "Station_data Files\n",
      "[ True  True  True  True  True  True  True]\n",
      "[ True  True  True  True  True  True  True]\n",
      "\n",
      "Trip_data Files\n",
      "[ True  True  True  True  True  True  True  True  True False  True]\n",
      "[ True  True  True  True  True  True  True  True  True  True  True]\n",
      "\n",
      "Weather_data Files\n",
      "[False False False False False False False False False False False False\n",
      " False False False False False False False False False False False False]\n",
      "[ True  True  True  True  True  True  True  True  True  True  True  True\n",
      "  True  True  True  True  True  True  True  True  True  True  True  True]\n"
     ]
    }
   ],
   "source": [
    "# EXTRA Verficando se as colunas de cada arquivo são similares\n",
    "print 'Station_data Files'\n",
    "print sample_20_201402_station_data.columns == sample_20_201408_station_data.columns\n",
    "print sample_20_201408_station_data.columns == sample_20_201508_station_data.columns\n",
    "print '\\nTrip_data Files'\n",
    "print sample_20_201402_trip_data.columns == sample_20_201408_trip_data.columns\n",
    "print sample_20_201408_trip_data.columns == sample_20_201508_trip_data.columns\n",
    "print '\\nWeather_data Files'\n",
    "print sample_20_201402_weather_data.columns == sample_20_201508_weather_data.columns\n",
    "print sample_20_201408_weather_data.columns == sample_20_201508_weather_data.columns\n"
   ]
  },
  {
   "cell_type": "code",
   "execution_count": 335,
   "metadata": {},
   "outputs": [
    {
     "name": "stdout",
     "output_type": "stream",
     "text": [
      "Analise Colunas Trip Data\n",
      "Index([u'Trip ID', u'Duration', u'Start Date', u'Start Station',\n",
      "       u'Start Terminal', u'End Date', u'End Station', u'End Terminal',\n",
      "       u'Bike #', u'Subscription Type', u'Zip Code'],\n",
      "      dtype='object')\n",
      "Index([u'Trip ID', u'Duration', u'Start Date', u'Start Station',\n",
      "       u'Start Terminal', u'End Date', u'End Station', u'End Terminal',\n",
      "       u'Bike #', u'Subscriber Type', u'Zip Code'],\n",
      "      dtype='object')\n",
      "Index([u'Trip ID', u'Duration', u'Start Date', u'Start Station',\n",
      "       u'Start Terminal', u'End Date', u'End Station', u'End Terminal',\n",
      "       u'Bike #', u'Subscriber Type', u'Zip Code'],\n",
      "      dtype='object')\n",
      "Número de colunas\n",
      "11\n",
      "11\n",
      "11\n",
      "\n",
      "Analise Colunas Weather Data\n",
      "Index([u'Date', u'Max_Temperature_F', u'Mean_Temperature_F',\n",
      "       u'Min_TemperatureF', u'Max_Dew_Point_F', u'MeanDew_Point_F',\n",
      "       u'Min_Dewpoint_F', u'Max_Humidity', u'Mean_Humidity ', u'Min_Humidity ',\n",
      "       u'Max_Sea_Level_Pressure_In ', u'Mean_Sea_Level_Pressure_In ',\n",
      "       u'Min_Sea_Level_Pressure_In ', u'Max_Visibility_Miles ',\n",
      "       u'Mean_Visibility_Miles ', u'Min_Visibility_Miles ',\n",
      "       u'Max_Wind_Speed_MPH ', u'Mean_Wind_Speed_MPH ', u'Max_Gust_Speed_MPH',\n",
      "       u'Precipitation_In ', u'Cloud_Cover ', u'Events', u'Wind_Dir_Degrees',\n",
      "       u'zip'],\n",
      "      dtype='object')\n",
      "Index([u'PDT', u'Max TemperatureF', u'Mean TemperatureF', u'Min TemperatureF',\n",
      "       u'Max Dew PointF', u'MeanDew PointF', u'Min DewpointF', u'Max Humidity',\n",
      "       u' Mean Humidity', u' Min Humidity', u' Max Sea Level PressureIn',\n",
      "       u' Mean Sea Level PressureIn', u' Min Sea Level PressureIn',\n",
      "       u' Max VisibilityMiles', u' Mean VisibilityMiles',\n",
      "       u' Min VisibilityMiles', u' Max Wind SpeedMPH', u' Mean Wind SpeedMPH',\n",
      "       u' Max Gust SpeedMPH', u'PrecipitationIn', u' CloudCover', u' Events',\n",
      "       u' WindDirDegrees', u'Zip'],\n",
      "      dtype='object')\n",
      "Index([u'PDT', u'Max TemperatureF', u'Mean TemperatureF', u'Min TemperatureF',\n",
      "       u'Max Dew PointF', u'MeanDew PointF', u'Min DewpointF', u'Max Humidity',\n",
      "       u' Mean Humidity', u' Min Humidity', u' Max Sea Level PressureIn',\n",
      "       u' Mean Sea Level PressureIn', u' Min Sea Level PressureIn',\n",
      "       u' Max VisibilityMiles', u' Mean VisibilityMiles',\n",
      "       u' Min VisibilityMiles', u' Max Wind SpeedMPH', u' Mean Wind SpeedMPH',\n",
      "       u' Max Gust SpeedMPH', u'PrecipitationIn', u' CloudCover', u' Events',\n",
      "       u' WindDirDegrees', u'Zip'],\n",
      "      dtype='object')\n",
      "Número de colunas\n",
      "24\n",
      "24\n",
      "24\n"
     ]
    }
   ],
   "source": [
    "#EXTRA imprimindo Colunas que tiveram colunas com nomes diferentes\n",
    "print 'Analise Colunas Trip Data'\n",
    "print sample_20_201402_trip_data.columns \n",
    "print sample_20_201408_trip_data.columns\n",
    "print sample_20_201508_trip_data.columns \n",
    "print 'Número de colunas'\n",
    "print len(sample_20_201402_trip_data.columns)\n",
    "print len(sample_20_201408_trip_data.columns)\n",
    "print len(sample_20_201508_trip_data.columns)\n",
    "print '\\n','Analise Colunas Weather Data'\n",
    "print sample_20_201402_weather_data.columns\n",
    "print sample_20_201408_weather_data.columns\n",
    "print sample_20_201508_weather_data.columns\n",
    "print 'Número de colunas'\n",
    "print len(sample_20_201402_weather_data.columns)\n",
    "print len(sample_20_201408_weather_data.columns)\n",
    "print len(sample_20_201508_weather_data.columns)"
   ]
  },
  {
   "cell_type": "markdown",
   "metadata": {},
   "source": [
    "## Extra - Notamos que temos que ajustar o nome das colunas em dois arquivos de dados \n",
    "1. No arquivo **_trip_data** temos dois tipos de nome de coluna para o tipo de usuário o **_Subscriber Type_** e o **_Subscription Type_** .\n",
    "2. Np arqivo **_weather_data** temos uma mudança na nomeclatura de camelCase para snake_case. "
   ]
  },
  {
   "cell_type": "markdown",
   "metadata": {},
   "source": [
    "### Condensando os Dados de Viagem\n",
    "\n",
    "O primeiro passo é analisar a estrutura do conjunto de dados para ver se há alguma limpeza de dados que devemos realizar. A célula abaixo irá ler o arquivo de dados amostrado que você criou na célula anterior. Você deve imprimir as primeiras linhas da tabela."
   ]
  },
  {
   "cell_type": "code",
   "execution_count": 10,
   "metadata": {},
   "outputs": [
    {
     "data": {
      "text/html": [
       "<div>\n",
       "<style>\n",
       "    .dataframe thead tr:only-child th {\n",
       "        text-align: right;\n",
       "    }\n",
       "\n",
       "    .dataframe thead th {\n",
       "        text-align: left;\n",
       "    }\n",
       "\n",
       "    .dataframe tbody tr th {\n",
       "        vertical-align: top;\n",
       "    }\n",
       "</style>\n",
       "<table border=\"1\" class=\"dataframe\">\n",
       "  <thead>\n",
       "    <tr style=\"text-align: right;\">\n",
       "      <th></th>\n",
       "      <th>Trip ID</th>\n",
       "      <th>Duration</th>\n",
       "      <th>Start Date</th>\n",
       "      <th>Start Station</th>\n",
       "      <th>Start Terminal</th>\n",
       "      <th>End Date</th>\n",
       "      <th>End Station</th>\n",
       "      <th>End Terminal</th>\n",
       "      <th>Bike #</th>\n",
       "      <th>Subscription Type</th>\n",
       "      <th>Zip Code</th>\n",
       "    </tr>\n",
       "  </thead>\n",
       "  <tbody>\n",
       "    <tr>\n",
       "      <th>32</th>\n",
       "      <td>4069</td>\n",
       "      <td>174</td>\n",
       "      <td>8/29/2013 9:08</td>\n",
       "      <td>2nd at South Park</td>\n",
       "      <td>64</td>\n",
       "      <td>8/29/2013 9:11</td>\n",
       "      <td>2nd at South Park</td>\n",
       "      <td>64</td>\n",
       "      <td>288</td>\n",
       "      <td>Subscriber</td>\n",
       "      <td>94114</td>\n",
       "    </tr>\n",
       "    <tr>\n",
       "      <th>541</th>\n",
       "      <td>4073</td>\n",
       "      <td>1067</td>\n",
       "      <td>8/29/2013 9:24</td>\n",
       "      <td>South Van Ness at Market</td>\n",
       "      <td>66</td>\n",
       "      <td>8/29/2013 9:42</td>\n",
       "      <td>San Francisco Caltrain 2 (330 Townsend)</td>\n",
       "      <td>69</td>\n",
       "      <td>321</td>\n",
       "      <td>Subscriber</td>\n",
       "      <td>94703</td>\n",
       "    </tr>\n",
       "    <tr>\n",
       "      <th>570</th>\n",
       "      <td>4074</td>\n",
       "      <td>1131</td>\n",
       "      <td>8/29/2013 9:24</td>\n",
       "      <td>South Van Ness at Market</td>\n",
       "      <td>66</td>\n",
       "      <td>8/29/2013 9:43</td>\n",
       "      <td>San Francisco Caltrain 2 (330 Townsend)</td>\n",
       "      <td>69</td>\n",
       "      <td>317</td>\n",
       "      <td>Subscriber</td>\n",
       "      <td>94115</td>\n",
       "    </tr>\n",
       "    <tr>\n",
       "      <th>565</th>\n",
       "      <td>4075</td>\n",
       "      <td>1117</td>\n",
       "      <td>8/29/2013 9:24</td>\n",
       "      <td>South Van Ness at Market</td>\n",
       "      <td>66</td>\n",
       "      <td>8/29/2013 9:43</td>\n",
       "      <td>San Francisco Caltrain 2 (330 Townsend)</td>\n",
       "      <td>69</td>\n",
       "      <td>316</td>\n",
       "      <td>Subscriber</td>\n",
       "      <td>94122</td>\n",
       "    </tr>\n",
       "    <tr>\n",
       "      <th>566</th>\n",
       "      <td>4076</td>\n",
       "      <td>1118</td>\n",
       "      <td>8/29/2013 9:25</td>\n",
       "      <td>South Van Ness at Market</td>\n",
       "      <td>66</td>\n",
       "      <td>8/29/2013 9:43</td>\n",
       "      <td>San Francisco Caltrain 2 (330 Townsend)</td>\n",
       "      <td>69</td>\n",
       "      <td>322</td>\n",
       "      <td>Subscriber</td>\n",
       "      <td>94597</td>\n",
       "    </tr>\n",
       "    <tr>\n",
       "      <th>719</th>\n",
       "      <td>4078</td>\n",
       "      <td>3829</td>\n",
       "      <td>8/29/2013 9:31</td>\n",
       "      <td>Redwood City Caltrain Station</td>\n",
       "      <td>22</td>\n",
       "      <td>8/29/2013 10:34</td>\n",
       "      <td>Redwood City Caltrain Station</td>\n",
       "      <td>22</td>\n",
       "      <td>228</td>\n",
       "      <td>Customer</td>\n",
       "      <td>94062</td>\n",
       "    </tr>\n",
       "    <tr>\n",
       "      <th>514</th>\n",
       "      <td>4079</td>\n",
       "      <td>995</td>\n",
       "      <td>8/29/2013 9:35</td>\n",
       "      <td>South Van Ness at Market</td>\n",
       "      <td>66</td>\n",
       "      <td>8/29/2013 9:52</td>\n",
       "      <td>South Van Ness at Market</td>\n",
       "      <td>66</td>\n",
       "      <td>327</td>\n",
       "      <td>Subscriber</td>\n",
       "      <td>94102</td>\n",
       "    </tr>\n",
       "    <tr>\n",
       "      <th>398</th>\n",
       "      <td>4080</td>\n",
       "      <td>764</td>\n",
       "      <td>8/29/2013 9:36</td>\n",
       "      <td>South Van Ness at Market</td>\n",
       "      <td>66</td>\n",
       "      <td>8/29/2013 9:49</td>\n",
       "      <td>San Francisco Caltrain 2 (330 Townsend)</td>\n",
       "      <td>69</td>\n",
       "      <td>315</td>\n",
       "      <td>Subscriber</td>\n",
       "      <td>94117</td>\n",
       "    </tr>\n",
       "    <tr>\n",
       "      <th>55</th>\n",
       "      <td>4081</td>\n",
       "      <td>218</td>\n",
       "      <td>8/29/2013 9:38</td>\n",
       "      <td>Mountain View City Hall</td>\n",
       "      <td>27</td>\n",
       "      <td>8/29/2013 9:41</td>\n",
       "      <td>Mountain View City Hall</td>\n",
       "      <td>27</td>\n",
       "      <td>150</td>\n",
       "      <td>Subscriber</td>\n",
       "      <td>97214</td>\n",
       "    </tr>\n",
       "    <tr>\n",
       "      <th>91</th>\n",
       "      <td>4084</td>\n",
       "      <td>287</td>\n",
       "      <td>8/29/2013 9:41</td>\n",
       "      <td>Mountain View City Hall</td>\n",
       "      <td>27</td>\n",
       "      <td>8/29/2013 9:46</td>\n",
       "      <td>Mountain View City Hall</td>\n",
       "      <td>27</td>\n",
       "      <td>138</td>\n",
       "      <td>Customer</td>\n",
       "      <td>97214</td>\n",
       "    </tr>\n",
       "  </tbody>\n",
       "</table>\n",
       "</div>"
      ],
      "text/plain": [
       "     Trip ID  Duration      Start Date                  Start Station  \\\n",
       "32      4069       174  8/29/2013 9:08              2nd at South Park   \n",
       "541     4073      1067  8/29/2013 9:24       South Van Ness at Market   \n",
       "570     4074      1131  8/29/2013 9:24       South Van Ness at Market   \n",
       "565     4075      1117  8/29/2013 9:24       South Van Ness at Market   \n",
       "566     4076      1118  8/29/2013 9:25       South Van Ness at Market   \n",
       "719     4078      3829  8/29/2013 9:31  Redwood City Caltrain Station   \n",
       "514     4079       995  8/29/2013 9:35       South Van Ness at Market   \n",
       "398     4080       764  8/29/2013 9:36       South Van Ness at Market   \n",
       "55      4081       218  8/29/2013 9:38        Mountain View City Hall   \n",
       "91      4084       287  8/29/2013 9:41        Mountain View City Hall   \n",
       "\n",
       "     Start Terminal         End Date                              End Station  \\\n",
       "32               64   8/29/2013 9:11                        2nd at South Park   \n",
       "541              66   8/29/2013 9:42  San Francisco Caltrain 2 (330 Townsend)   \n",
       "570              66   8/29/2013 9:43  San Francisco Caltrain 2 (330 Townsend)   \n",
       "565              66   8/29/2013 9:43  San Francisco Caltrain 2 (330 Townsend)   \n",
       "566              66   8/29/2013 9:43  San Francisco Caltrain 2 (330 Townsend)   \n",
       "719              22  8/29/2013 10:34            Redwood City Caltrain Station   \n",
       "514              66   8/29/2013 9:52                 South Van Ness at Market   \n",
       "398              66   8/29/2013 9:49  San Francisco Caltrain 2 (330 Townsend)   \n",
       "55               27   8/29/2013 9:41                  Mountain View City Hall   \n",
       "91               27   8/29/2013 9:46                  Mountain View City Hall   \n",
       "\n",
       "     End Terminal  Bike # Subscription Type Zip Code  \n",
       "32             64     288        Subscriber    94114  \n",
       "541            69     321        Subscriber    94703  \n",
       "570            69     317        Subscriber    94115  \n",
       "565            69     316        Subscriber    94122  \n",
       "566            69     322        Subscriber    94597  \n",
       "719            22     228          Customer    94062  \n",
       "514            66     327        Subscriber    94102  \n",
       "398            69     315        Subscriber    94117  \n",
       "55             27     150        Subscriber    97214  \n",
       "91             27     138          Customer    97214  "
      ]
     },
     "metadata": {},
     "output_type": "display_data"
    }
   ],
   "source": [
    "sample_data = pd.read_csv('201309_trip_data.csv')\n",
    "\n",
    "# TODO: escreva o código para visualizar as primeiras linhas\n",
    "# Vou usar o métod DataFrame.head(<número de linhas>)\n",
    "# Dei um sorte pelos valores da coluna Trip Id para melhorar a visualização para mim\n",
    "display(sample_data.sort_values(by=['Trip ID']).head(10))"
   ]
  },
  {
   "cell_type": "code",
   "execution_count": 11,
   "metadata": {},
   "outputs": [
    {
     "name": "stdout",
     "output_type": "stream",
     "text": [
      "Tamanho da amostra  27345\n"
     ]
    }
   ],
   "source": [
    "#Tamanho da amostra\n",
    "print 'Tamanho da amostra ',len(sample_data)"
   ]
  },
  {
   "cell_type": "code",
   "execution_count": 12,
   "metadata": {},
   "outputs": [
    {
     "name": "stdout",
     "output_type": "stream",
     "text": [
      "set(['Subscriber', 'Customer'])\n"
     ]
    }
   ],
   "source": [
    "print set(sample_data['Subscription Type'])"
   ]
  },
  {
   "cell_type": "markdown",
   "metadata": {},
   "source": [
    "Nesta exploração, vamos nos concentrar nos fatores nos dados da viagem que afetam o número de viagens realizadas. Vamos focar em algumas colunas selecionadas: a duração da viagem (trip duration), hora de início (start time), terminal inicial (start terminal), terminal final (end terminal) e tipo de assinatura. O tempo de início será dividido em componentes de ano, mês e hora. Também adicionaremos uma coluna para o dia da semana e resumiremos o terminal inicial e final para ser a _cidade_ de início e fim.\n",
    "\n",
    "Vamos primeiro abordar a última parte do processo de limpeza. Execute a célula de código abaixo para ver como as informações da estação estão estruturadas e observe como o código criará o mapeamento estação-cidade. Observe que o mapeamento da estação está configurado como uma função, `create_station_mapping()`. Uma vez que é possível que mais estações sejam adicionadas ou removidas ao longo do tempo, esta função nos permitirá combinar as informações da estação em todas as três partes dos nossos dados quando estivermos prontos para explorar tudo."
   ]
  },
  {
   "cell_type": "code",
   "execution_count": 13,
   "metadata": {},
   "outputs": [
    {
     "data": {
      "text/html": [
       "<div>\n",
       "<style>\n",
       "    .dataframe thead tr:only-child th {\n",
       "        text-align: right;\n",
       "    }\n",
       "\n",
       "    .dataframe thead th {\n",
       "        text-align: left;\n",
       "    }\n",
       "\n",
       "    .dataframe tbody tr th {\n",
       "        vertical-align: top;\n",
       "    }\n",
       "</style>\n",
       "<table border=\"1\" class=\"dataframe\">\n",
       "  <thead>\n",
       "    <tr style=\"text-align: right;\">\n",
       "      <th></th>\n",
       "      <th>station_id</th>\n",
       "      <th>name</th>\n",
       "      <th>lat</th>\n",
       "      <th>long</th>\n",
       "      <th>dockcount</th>\n",
       "      <th>landmark</th>\n",
       "      <th>installation</th>\n",
       "    </tr>\n",
       "  </thead>\n",
       "  <tbody>\n",
       "    <tr>\n",
       "      <th>0</th>\n",
       "      <td>2</td>\n",
       "      <td>San Jose Diridon Caltrain Station</td>\n",
       "      <td>37.329732</td>\n",
       "      <td>-121.901782</td>\n",
       "      <td>27</td>\n",
       "      <td>San Jose</td>\n",
       "      <td>8/6/2013</td>\n",
       "    </tr>\n",
       "    <tr>\n",
       "      <th>1</th>\n",
       "      <td>3</td>\n",
       "      <td>San Jose Civic Center</td>\n",
       "      <td>37.330698</td>\n",
       "      <td>-121.888979</td>\n",
       "      <td>15</td>\n",
       "      <td>San Jose</td>\n",
       "      <td>8/5/2013</td>\n",
       "    </tr>\n",
       "    <tr>\n",
       "      <th>2</th>\n",
       "      <td>4</td>\n",
       "      <td>Santa Clara at Almaden</td>\n",
       "      <td>37.333988</td>\n",
       "      <td>-121.894902</td>\n",
       "      <td>11</td>\n",
       "      <td>San Jose</td>\n",
       "      <td>8/6/2013</td>\n",
       "    </tr>\n",
       "    <tr>\n",
       "      <th>3</th>\n",
       "      <td>5</td>\n",
       "      <td>Adobe on Almaden</td>\n",
       "      <td>37.331415</td>\n",
       "      <td>-121.893200</td>\n",
       "      <td>19</td>\n",
       "      <td>San Jose</td>\n",
       "      <td>8/5/2013</td>\n",
       "    </tr>\n",
       "    <tr>\n",
       "      <th>4</th>\n",
       "      <td>6</td>\n",
       "      <td>San Pedro Square</td>\n",
       "      <td>37.336721</td>\n",
       "      <td>-121.894074</td>\n",
       "      <td>15</td>\n",
       "      <td>San Jose</td>\n",
       "      <td>8/7/2013</td>\n",
       "    </tr>\n",
       "  </tbody>\n",
       "</table>\n",
       "</div>"
      ],
      "text/plain": [
       "   station_id                               name        lat        long  \\\n",
       "0           2  San Jose Diridon Caltrain Station  37.329732 -121.901782   \n",
       "1           3              San Jose Civic Center  37.330698 -121.888979   \n",
       "2           4             Santa Clara at Almaden  37.333988 -121.894902   \n",
       "3           5                   Adobe on Almaden  37.331415 -121.893200   \n",
       "4           6                   San Pedro Square  37.336721 -121.894074   \n",
       "\n",
       "   dockcount  landmark installation  \n",
       "0         27  San Jose     8/6/2013  \n",
       "1         15  San Jose     8/5/2013  \n",
       "2         11  San Jose     8/6/2013  \n",
       "3         19  San Jose     8/5/2013  \n",
       "4         15  San Jose     8/7/2013  "
      ]
     },
     "execution_count": 13,
     "metadata": {},
     "output_type": "execute_result"
    }
   ],
   "source": [
    "# Mostra as primeiras linhas do arquivo de dados das estações\n",
    "station_info = pd.read_csv('201402_station_data.csv')\n",
    "station_info.head()"
   ]
  },
  {
   "cell_type": "markdown",
   "metadata": {},
   "source": [
    "Preencha a função abaixo de forma que a função retorne um mapeamento entre o id da estação (`station_id`) e a cidade em que ela se encontra (`landmark`)."
   ]
  },
  {
   "cell_type": "code",
   "execution_count": 14,
   "metadata": {
    "collapsed": true
   },
   "outputs": [],
   "source": [
    "# esta função será usada mais tarde para criar o mapeamento entre station e cidade\n",
    "def create_station_mapping(station_data):\n",
    "    \"\"\"\n",
    "    Cria um mapeamento (tambémm conhecido como de-para) entre a estação \n",
    "    e a cidade\n",
    "    \"\"\"\n",
    "    # TODO: Inicie esta variável de maneira correta.\n",
    "    \n",
    "    station_map = {} # Dictionary key station_id and data city name\n",
    "    \n",
    "    for data_file in station_data:\n",
    "        with open(data_file, 'r') as f_in:\n",
    "            # configura o objeto csv reader - note que está sendo usado o DictReader,\n",
    "            # que usa a primeira linha do arquivo como cabeçalho e cria as chaves\n",
    "            # do dicionário com estes valores.\n",
    "            weather_reader = csv.DictReader(f_in)\n",
    "\n",
    "            for row in weather_reader:\n",
    "                # TODO: faça o mapeamento aqui\n",
    "                station = row['station_id']\n",
    "                city_name = row['landmark']\n",
    "                station_map[station] = city_name\n",
    "    return station_map"
   ]
  },
  {
   "cell_type": "code",
   "execution_count": 15,
   "metadata": {},
   "outputs": [
    {
     "name": "stdout",
     "output_type": "stream",
     "text": [
      "Total Stations =  70\n",
      "\n",
      "Station_id City\n",
      "2 San Jose\n",
      "3 San Jose\n",
      "4 San Jose\n",
      "5 San Jose\n",
      "6 San Jose\n",
      "7 San Jose\n",
      "8 San Jose\n",
      "9 San Jose\n",
      "10 San Jose\n",
      "11 San Jose\n",
      "12 San Jose\n",
      "13 San Jose\n",
      "14 San Jose\n",
      "16 San Jose\n",
      "21 Redwood City\n",
      "22 Redwood City\n",
      "23 Redwood City\n",
      "24 Redwood City\n",
      "25 Redwood City\n",
      "26 Redwood City\n",
      "27 Mountain View\n",
      "28 Mountain View\n",
      "29 Mountain View\n",
      "30 Mountain View\n",
      "31 Mountain View\n",
      "32 Mountain View\n",
      "33 Mountain View\n",
      "34 Palo Alto\n",
      "35 Palo Alto\n",
      "36 Palo Alto\n",
      "37 Palo Alto\n",
      "38 Palo Alto\n",
      "39 San Francisco\n",
      "41 San Francisco\n",
      "42 San Francisco\n",
      "45 San Francisco\n",
      "46 San Francisco\n",
      "47 San Francisco\n",
      "48 San Francisco\n",
      "49 San Francisco\n",
      "50 San Francisco\n",
      "51 San Francisco\n",
      "54 San Francisco\n",
      "55 San Francisco\n",
      "56 San Francisco\n",
      "57 San Francisco\n",
      "58 San Francisco\n",
      "59 San Francisco\n",
      "60 San Francisco\n",
      "61 San Francisco\n",
      "62 San Francisco\n",
      "63 San Francisco\n",
      "64 San Francisco\n",
      "65 San Francisco\n",
      "66 San Francisco\n",
      "67 San Francisco\n",
      "68 San Francisco\n",
      "69 San Francisco\n",
      "70 San Francisco\n",
      "71 San Francisco\n",
      "72 San Francisco\n",
      "73 San Francisco\n",
      "74 San Francisco\n",
      "75 San Francisco\n",
      "76 San Francisco\n",
      "77 San Francisco\n",
      "80 San Jose\n",
      "82 San Francisco\n",
      "83 Redwood City\n",
      "84 San Jose\n",
      "\n",
      "Cidades Atendidas = \n",
      "Palo Alto\n",
      "San Francisco\n",
      "San Jose\n",
      "Redwood City\n",
      "Mountain View\n"
     ]
    }
   ],
   "source": [
    "#Pequeno teste da função criada e vizualização das estações de bike\n",
    "teste = ['201402_station_data.csv','201408_station_data.csv','201508_station_data.csv']\n",
    "station_map = create_station_mapping(teste)\n",
    "#Total de Estações\n",
    "print 'Total Stations = ',len(station_map)\n",
    "#Vizualização das estação id por cidade de forma limpa\n",
    "print '\\nStation_id City'\n",
    "station_id = []\n",
    "for i in station_map:\n",
    "    station_id.append(int(i))\n",
    "for i in sorted(station_id):\n",
    "    print i, station_map[str(i)]\n",
    "cidades_atendidas = set(station_map.values())\n",
    "# Resumo das Cidades Atendidas\n",
    "print '\\nCidades Atendidas = '\n",
    "for i in cidades_atendidas:\n",
    "    print i"
   ]
  },
  {
   "cell_type": "markdown",
   "metadata": {},
   "source": [
    "Você pode agora usar o mapeamento para condensar as viagens para as colunas selecionadas acima. Isto acontecerá na função abaixo `summarise_data()`. Nela o módulo `datetime` é usado para fazer o **p**arse do tempo (timestamp) em formato de strings no arquivo original para um objeto usando a função `strptime`. Este objeto permitirá a conversão para outros **f**ormatos de datas usando a função `strftime`. O objeto possui também outras funções que facilitam a manipulação dos dados. Veja [este tutorial](http://usandopython.com.br/manipulando-data-hora-python-datetime/) para entender um pouco melhor como trabalhar com a biblioteca.\n",
    "\n",
    "Você precisa concluir duas tarefas para completar a função `summarise_data()`. Inicialmente, você deverá realizar a operação de converter a duração das viagens de segundos para minutos. Esta é muito fácil, pois existem 60 segundos em um minuto!\n",
    "\n",
    "Na sequência, você deve criar colunas para o ano, mês, hora e dia da semana. Verifique o tutorial acima ou a [documentação para o objeto de datetime no módulo datetime](https://docs.python.org/2/library/datetime.html#datetime-objects). \n",
    "\n",
    "** TODO: Encontre os atributos e métodos necessários para poder completar o código abaixo **\n",
    "\n",
    "*Dica*: Você pode abrir uma nova caixa para testar um pedaço do código ou verificar uma variável que seja global. Caso ela esteja dentro da função, você também pode usar o comando `print()` para imprimi-la e ajudar no Debug."
   ]
  },
  {
   "cell_type": "code",
   "execution_count": 16,
   "metadata": {
    "collapsed": true
   },
   "outputs": [],
   "source": [
    "def summarise_data(trip_in, station_data, trip_out):\n",
    "    \"\"\"\n",
    "    Esta função recebe informações de viagem e estação e produz um novo\n",
    "    arquivo de dados com um resumo condensado das principais informações de viagem.Os \n",
    "    argumentos trip_in e station_data serão listas de arquivos de dados para\n",
    "    as informações da viagem e da estação enquanto trip_out especifica o local\n",
    "    para o qual os dados sumarizados serão escritos.\n",
    "    \"\"\"\n",
    "    # gera o dicionário de mapeamento entre estações e cidades\n",
    "    station_map = create_station_mapping(station_data)\n",
    "    \n",
    "    with open(trip_out, 'w') as f_out:\n",
    "        # configura o objeto de escrita de csv       \n",
    "        out_colnames = ['duration', 'start_date', 'start_year',\n",
    "                        'start_month', 'start_hour', 'weekday',\n",
    "                        'start_city', 'end_city', 'subscription_type']        \n",
    "        trip_writer = csv.DictWriter(f_out, fieldnames = out_colnames)\n",
    "        trip_writer.writeheader()\n",
    "        \n",
    "        for data_file in trip_in:\n",
    "            with open(data_file, 'r') as f_in:\n",
    "                # configura o leitor do csv\n",
    "                trip_reader = csv.DictReader(f_in)\n",
    "\n",
    "                # processa cada linha lendo uma a uma\n",
    "                for row in trip_reader:\n",
    "                    new_point = {}\n",
    "                    \n",
    "                    # converte a duração de segundos para minutos.\n",
    "                    ### TODO: Pergunta 3a: Adicione uma operação matemática       ###\n",
    "                    ### para converter a duração de segundos para minutos.  ###\n",
    "                    new_point['duration'] = float(row['Duration'])/60.0\n",
    "                    \n",
    "                    # reformate strings com datas para múltiplas colunas\n",
    "                    ### TODO: Pergunta 3b: Preencha os __ abaixo para criar os        ###\n",
    "                    ### campos experados nas colunas (olhe pelo nome da coluna) ###\n",
    "                    trip_date = datetime.strptime(row['Start Date'], '%m/%d/%Y %H:%M')\n",
    "                    new_point['start_date']  = trip_date.day\n",
    "                    new_point['start_year']  = trip_date.year\n",
    "                    new_point['start_month'] = trip_date.month\n",
    "                    new_point['start_hour']  = trip_date.hour\n",
    "                    new_point['weekday']     = trip_date.weekday()\n",
    "                    \n",
    "                    # TODO: mapeia o terminal de inicio e fim com o a cidade de inicio e fim\n",
    "                    new_point['start_city'] = station_map[row['Start Terminal']]\n",
    "                    new_point['end_city'] = station_map[row['End Terminal']]\n",
    "                    \n",
    "                    # TODO: existem dois nomes diferentes para o mesmo campo. Trate cada um deles.\n",
    "                    if 'Subscription Type' in row:\n",
    "                        new_point['subscription_type'] = row['Subscription Type']\n",
    "                    else:\n",
    "                        new_point['subscription_type'] = row['Subscriber Type']\n",
    "\n",
    "                    # escreve a informação processada para o arquivo de saída.\n",
    "                    trip_writer.writerow(new_point)"
   ]
  },
  {
   "cell_type": "markdown",
   "metadata": {},
   "source": [
    "# Pergunta 3: \n",
    "Execute o bloco de código abaixo para chamar a função `summarise_data()` que você terminou na célula acima. Ela usará os dados contidos nos arquivos listados nas variáveis `trip_in` e `station_data` e escreverá um novo arquivo no local especificado na variável `trip_out`. Se você executou a limpeza de dados corretamente, o bloco de código abaixo imprimirá as primeiras linhas do DataFrame e uma mensagem que verificando se as contagens de dados estão corretas."
   ]
  },
  {
   "cell_type": "code",
   "execution_count": 17,
   "metadata": {
    "collapsed": true
   },
   "outputs": [],
   "source": [
    "# processe os dados usando a função criada acima\n",
    "station_data = ['201402_station_data.csv']\n",
    "trip_in = ['201309_trip_data.csv']\n",
    "trip_out = '201309_trip_summary.csv'\n",
    "summarise_data(trip_in, station_data, trip_out)"
   ]
  },
  {
   "cell_type": "code",
   "execution_count": 18,
   "metadata": {},
   "outputs": [
    {
     "data": {
      "text/html": [
       "<div>\n",
       "<style>\n",
       "    .dataframe thead tr:only-child th {\n",
       "        text-align: right;\n",
       "    }\n",
       "\n",
       "    .dataframe thead th {\n",
       "        text-align: left;\n",
       "    }\n",
       "\n",
       "    .dataframe tbody tr th {\n",
       "        vertical-align: top;\n",
       "    }\n",
       "</style>\n",
       "<table border=\"1\" class=\"dataframe\">\n",
       "  <thead>\n",
       "    <tr style=\"text-align: right;\">\n",
       "      <th></th>\n",
       "      <th>duration</th>\n",
       "      <th>start_date</th>\n",
       "      <th>start_year</th>\n",
       "      <th>start_month</th>\n",
       "      <th>start_hour</th>\n",
       "      <th>weekday</th>\n",
       "      <th>start_city</th>\n",
       "      <th>end_city</th>\n",
       "      <th>subscription_type</th>\n",
       "    </tr>\n",
       "  </thead>\n",
       "  <tbody>\n",
       "    <tr>\n",
       "      <th>0</th>\n",
       "      <td>1.050000</td>\n",
       "      <td>29</td>\n",
       "      <td>2013</td>\n",
       "      <td>8</td>\n",
       "      <td>14</td>\n",
       "      <td>3</td>\n",
       "      <td>San Francisco</td>\n",
       "      <td>San Francisco</td>\n",
       "      <td>Subscriber</td>\n",
       "    </tr>\n",
       "    <tr>\n",
       "      <th>1</th>\n",
       "      <td>1.166667</td>\n",
       "      <td>29</td>\n",
       "      <td>2013</td>\n",
       "      <td>8</td>\n",
       "      <td>14</td>\n",
       "      <td>3</td>\n",
       "      <td>San Jose</td>\n",
       "      <td>San Jose</td>\n",
       "      <td>Subscriber</td>\n",
       "    </tr>\n",
       "    <tr>\n",
       "      <th>2</th>\n",
       "      <td>1.183333</td>\n",
       "      <td>29</td>\n",
       "      <td>2013</td>\n",
       "      <td>8</td>\n",
       "      <td>10</td>\n",
       "      <td>3</td>\n",
       "      <td>Mountain View</td>\n",
       "      <td>Mountain View</td>\n",
       "      <td>Subscriber</td>\n",
       "    </tr>\n",
       "    <tr>\n",
       "      <th>3</th>\n",
       "      <td>1.283333</td>\n",
       "      <td>29</td>\n",
       "      <td>2013</td>\n",
       "      <td>8</td>\n",
       "      <td>11</td>\n",
       "      <td>3</td>\n",
       "      <td>San Jose</td>\n",
       "      <td>San Jose</td>\n",
       "      <td>Subscriber</td>\n",
       "    </tr>\n",
       "    <tr>\n",
       "      <th>4</th>\n",
       "      <td>1.383333</td>\n",
       "      <td>29</td>\n",
       "      <td>2013</td>\n",
       "      <td>8</td>\n",
       "      <td>12</td>\n",
       "      <td>3</td>\n",
       "      <td>San Francisco</td>\n",
       "      <td>San Francisco</td>\n",
       "      <td>Subscriber</td>\n",
       "    </tr>\n",
       "  </tbody>\n",
       "</table>\n",
       "</div>"
      ],
      "text/plain": [
       "   duration  start_date  start_year  start_month  start_hour  weekday  \\\n",
       "0  1.050000          29        2013            8          14        3   \n",
       "1  1.166667          29        2013            8          14        3   \n",
       "2  1.183333          29        2013            8          10        3   \n",
       "3  1.283333          29        2013            8          11        3   \n",
       "4  1.383333          29        2013            8          12        3   \n",
       "\n",
       "      start_city       end_city subscription_type  \n",
       "0  San Francisco  San Francisco        Subscriber  \n",
       "1       San Jose       San Jose        Subscriber  \n",
       "2  Mountain View  Mountain View        Subscriber  \n",
       "3       San Jose       San Jose        Subscriber  \n",
       "4  San Francisco  San Francisco        Subscriber  "
      ]
     },
     "metadata": {},
     "output_type": "display_data"
    }
   ],
   "source": [
    "# Carregue os dados novamente mostrando os dados\n",
    "## TODO: Complete o código para leitura dos dados no arquivo criado na função acima\n",
    "sample_data = pd.read_csv(trip_out)\n",
    "display(sample_data.head())"
   ]
  },
  {
   "cell_type": "code",
   "execution_count": 19,
   "metadata": {},
   "outputs": [
    {
     "name": "stdout",
     "output_type": "stream",
     "text": [
      "Todas as contagens estão como esperadas.\n"
     ]
    }
   ],
   "source": [
    "# Verifica o DataFrame contando o número de pontos de dados com as características de \n",
    "# tempo corretas.\n",
    "question_3(sample_data)"
   ]
  },
  {
   "cell_type": "markdown",
   "metadata": {},
   "source": [
    "> **Dica**: se você salvar um notebook do jupyter, a saída dos blocos de código em execução também será salva. No entanto, o estado do seu arquivo será reiniciado uma vez que uma nova sessão será iniciada. Certifique-se de que você execute todos os blocos de código necessários da sessão anterior para restabelecer variáveis e funções antes de continuar de onde você deixou na última vez."
   ]
  },
  {
   "cell_type": "markdown",
   "metadata": {},
   "source": [
    "## Análise Exploratória de Dados \n",
    "\n",
    "Agora que você tem alguns dados salvos em um arquivo, vejamos algumas tendências iniciais nos dados. Algum código já foi escrito para você no script [babs_visualizations.py](babs_visualizations.py) para ajudar a resumir e visualizar os dados; Isso foi importado como as funções `usage_stats()` e `usage_plot()`. Nesta seção, vamos percorrer algumas das coisas que você pode fazer com as funções, e você usará as funções para você mesmo na última parte do projeto. Primeiro, execute a seguinte célula para carregar os dados. Depois preencha a célula abaixo com os comandos para verificar os dados básicos sobre os dados."
   ]
  },
  {
   "cell_type": "code",
   "execution_count": 20,
   "metadata": {},
   "outputs": [
    {
     "data": {
      "text/html": [
       "<div>\n",
       "<style>\n",
       "    .dataframe thead tr:only-child th {\n",
       "        text-align: right;\n",
       "    }\n",
       "\n",
       "    .dataframe thead th {\n",
       "        text-align: left;\n",
       "    }\n",
       "\n",
       "    .dataframe tbody tr th {\n",
       "        vertical-align: top;\n",
       "    }\n",
       "</style>\n",
       "<table border=\"1\" class=\"dataframe\">\n",
       "  <thead>\n",
       "    <tr style=\"text-align: right;\">\n",
       "      <th></th>\n",
       "      <th>duration</th>\n",
       "      <th>start_date</th>\n",
       "      <th>start_year</th>\n",
       "      <th>start_month</th>\n",
       "      <th>start_hour</th>\n",
       "      <th>weekday</th>\n",
       "      <th>start_city</th>\n",
       "      <th>end_city</th>\n",
       "      <th>subscription_type</th>\n",
       "    </tr>\n",
       "  </thead>\n",
       "  <tbody>\n",
       "    <tr>\n",
       "      <th>0</th>\n",
       "      <td>1.050000</td>\n",
       "      <td>29</td>\n",
       "      <td>2013</td>\n",
       "      <td>8</td>\n",
       "      <td>14</td>\n",
       "      <td>3</td>\n",
       "      <td>San Francisco</td>\n",
       "      <td>San Francisco</td>\n",
       "      <td>Subscriber</td>\n",
       "    </tr>\n",
       "    <tr>\n",
       "      <th>1</th>\n",
       "      <td>1.166667</td>\n",
       "      <td>29</td>\n",
       "      <td>2013</td>\n",
       "      <td>8</td>\n",
       "      <td>14</td>\n",
       "      <td>3</td>\n",
       "      <td>San Jose</td>\n",
       "      <td>San Jose</td>\n",
       "      <td>Subscriber</td>\n",
       "    </tr>\n",
       "    <tr>\n",
       "      <th>2</th>\n",
       "      <td>1.183333</td>\n",
       "      <td>29</td>\n",
       "      <td>2013</td>\n",
       "      <td>8</td>\n",
       "      <td>10</td>\n",
       "      <td>3</td>\n",
       "      <td>Mountain View</td>\n",
       "      <td>Mountain View</td>\n",
       "      <td>Subscriber</td>\n",
       "    </tr>\n",
       "    <tr>\n",
       "      <th>3</th>\n",
       "      <td>1.283333</td>\n",
       "      <td>29</td>\n",
       "      <td>2013</td>\n",
       "      <td>8</td>\n",
       "      <td>11</td>\n",
       "      <td>3</td>\n",
       "      <td>San Jose</td>\n",
       "      <td>San Jose</td>\n",
       "      <td>Subscriber</td>\n",
       "    </tr>\n",
       "    <tr>\n",
       "      <th>4</th>\n",
       "      <td>1.383333</td>\n",
       "      <td>29</td>\n",
       "      <td>2013</td>\n",
       "      <td>8</td>\n",
       "      <td>12</td>\n",
       "      <td>3</td>\n",
       "      <td>San Francisco</td>\n",
       "      <td>San Francisco</td>\n",
       "      <td>Subscriber</td>\n",
       "    </tr>\n",
       "  </tbody>\n",
       "</table>\n",
       "</div>"
      ],
      "text/plain": [
       "   duration  start_date  start_year  start_month  start_hour  weekday  \\\n",
       "0  1.050000          29        2013            8          14        3   \n",
       "1  1.166667          29        2013            8          14        3   \n",
       "2  1.183333          29        2013            8          10        3   \n",
       "3  1.283333          29        2013            8          11        3   \n",
       "4  1.383333          29        2013            8          12        3   \n",
       "\n",
       "      start_city       end_city subscription_type  \n",
       "0  San Francisco  San Francisco        Subscriber  \n",
       "1       San Jose       San Jose        Subscriber  \n",
       "2  Mountain View  Mountain View        Subscriber  \n",
       "3       San Jose       San Jose        Subscriber  \n",
       "4  San Francisco  San Francisco        Subscriber  "
      ]
     },
     "execution_count": 20,
     "metadata": {},
     "output_type": "execute_result"
    }
   ],
   "source": [
    "trip_data = pd.read_csv('201309_trip_summary.csv')\n",
    "trip_data.head()"
   ]
  },
  {
   "cell_type": "code",
   "execution_count": 21,
   "metadata": {},
   "outputs": [
    {
     "name": "stdout",
     "output_type": "stream",
     "text": [
      "Existem 27345 pontos no conjunto de dados\n",
      "A duração média das viagens foi de 27.60 minutos\n",
      "A mediana das durações das viagens foi de 10.72 minutos\n",
      "25% das viagens foram mais curtas do que 6.82 minutos\n",
      "25% das viagens foram mais compridas do que 17.28 minutos\n"
     ]
    }
   ],
   "source": [
    "# TODO: preencha os campos com os dados de acordo com o print\n",
    "tamanho_amostra = len(trip_data)\n",
    "trip_duration_mean = trip_data['duration'].mean()\n",
    "trip_duration_median = trip_data['duration'].median()\n",
    "print('Existem {:d} pontos no conjunto de dados'.format(tamanho_amostra))\n",
    "print('A duração média das viagens foi de {:.2f} minutos'.format(trip_duration_mean))\n",
    "print('A mediana das durações das viagens foi de {:.2f} minutos'.format(trip_duration_median))\n",
    "\n",
    "# TODO: verificando os quartis\n",
    "duration_qtiles = trip_data['duration'].quantile([.25, .5, .75]).as_matrix()\n",
    "trips_duration_under_25 = duration_qtiles[0]\n",
    "trips_duration_above_75 = duration_qtiles[2]\n",
    "print('25% das viagens foram mais curtas do que {:.2f} minutos'.format(trips_duration_under_25))\n",
    "print('25% das viagens foram mais compridas do que {:.2f} minutos'.format(trips_duration_above_75))"
   ]
  },
  {
   "cell_type": "code",
   "execution_count": 22,
   "metadata": {},
   "outputs": [
    {
     "name": "stdout",
     "output_type": "stream",
     "text": [
      "Existem 27345 pontos no conjunto de dados\n",
      "A duração média das viagens foi de 27.60 minutos\n",
      "A mediana das durações das viagens foi de 10.72 minutos\n",
      "25% das viagens foram mais curtas do que 6.82 minutos\n",
      "25% das viagens foram mais compridas do que 17.28 minutos\n"
     ]
    },
    {
     "data": {
      "text/plain": [
       "array([  6.81666667,  10.71666667,  17.28333333])"
      ]
     },
     "execution_count": 22,
     "metadata": {},
     "output_type": "execute_result"
    }
   ],
   "source": [
    "# execute este campo para verificar os seu processamento acima.\n",
    "usage_stats(trip_data)"
   ]
  },
  {
   "cell_type": "markdown",
   "metadata": {},
   "source": [
    "Você deve ver que há mais de 27.000 viagens no primeiro mês e que a duração média da viagem é maior do que a duração mediana da viagem (o ponto em que 50% das viagens são mais curtas e 50% são mais longas). Na verdade, a média é maior que as durações de 75% das viagens mais curtas. Isso será interessante para ver mais adiante.\n",
    "\n",
    "Vamos começar a ver como essas viagens são divididas por tipo de inscrição. Uma maneira fácil de construir uma intuição sobre os dados é traçá-los. \n",
    "\n",
    "Lembre-se que o Pandas possui maneiras de plotar os gráficos diretamente de um DataFrame. Para cada tipo de dados/análises se pode usar um tipo diferente de gráfico mais apropriado para a análise que se está fazendo.\n",
    "\n",
    "Na caixa abaixo, faça um gráfico de viagens x tipo de subscrição do tipo barras."
   ]
  },
  {
   "cell_type": "code",
   "execution_count": 339,
   "metadata": {},
   "outputs": [
    {
     "data": {
      "image/png": "[encoded data removed]",
      "text/plain": [
       "<matplotlib.figure.Figure at 0x15b5bf98>"
      ]
     },
     "metadata": {},
     "output_type": "display_data"
    }
   ],
   "source": [
    "# TODO: plote um gráfico de barras que mostre quantidade de viagens por subscription_type\n",
    "# lembrando que quando o comando .plot é usado, se pode escolher o tipo de gráfico usando \n",
    "# o parâmetro kind. Ex: plot(kind='bar')\n",
    "import matplotlib.pyplot as plt\n",
    "subscription_types = ['Subscriber','Customer']\n",
    "number_subscription_types = []\n",
    "for type in subscription_types:\n",
    "    number_subscription_types.append(((trip_data['subscription_type'] == type).sum()))\n",
    "    \n",
    "#Calcula o percentual entre os tipos de Usuário\n",
    "diff = str(round((float(number_subscription_types[0])/float(number_subscription_types[1]) -1)*100,2))\n",
    "\n",
    "#definindo o espaço usado\n",
    "plt.figure(figsize=(10,8));\n",
    "# Ligando o grid y\n",
    "plt.grid(True,axis='y')\n",
    "\n",
    "#Criando as Barras\n",
    "sub, cus = plt.bar(subscription_types,number_subscription_types, width=0.75 )\n",
    "# Dando cores as Barras\n",
    "sub.set_facecolor('darkorange')\n",
    "cus.set_facecolor('darkgreen')\n",
    "# Colocando os textos dos eixos e informativos -> u'texto' para os acentos em portugués - unicode\n",
    "plt.xlabel(u'Tipo de Usuário', fontsize=15)\n",
    "plt.ylabel(u'Número de Viagens', fontsize=15)\n",
    "plt.title(u'Gráfico 1: Número de Viagens por tipo de Usuário', fontsize=20)\n",
    "plt.text(-0.35,15000, u' O Número de viagens de usuários Assinantes\\n é ' + diff + u'% maior do que de usuários avulsos' , fontsize=10, bbox=dict(facecolor='lightblue', alpha=0.8,pad=8))\n",
    "plt.show()"
   ]
  },
  {
   "cell_type": "markdown",
   "metadata": {},
   "source": [
    "Para que você possa conferir se os seus gráficos estão corretos, usaremos a função `use_plot()`. O segundo argumento da função nos permite contar as viagens em uma variável selecionada, exibindo as informações em um gráfico. A expressão abaixo mostrará como deve ter ficado o seu gráfico acima."
   ]
  },
  {
   "cell_type": "code",
   "execution_count": 485,
   "metadata": {},
   "outputs": [],
   "source": [
    "# como o seu gráfico deve ficar. Descomente a linha abaixo caso queira rodar este comando\n",
    "# usage_plot(trip_data, 'subscription_type')"
   ]
  },
  {
   "cell_type": "markdown",
   "metadata": {},
   "source": [
    ">*Nota*: Perceba que provavelmente o seu gráfico não ficou exatamente igual, principalmente pelo título e pelo nome dos eixos. Lembre-se, estes são detalhes mas fazem toda a diferença quando você for apresentar os gráficos que você analisou. Neste Nanodegree não focaremos nestas questões, mas tenha em mente que ter os gráficos acertados é de extrema importância."
   ]
  },
  {
   "cell_type": "markdown",
   "metadata": {},
   "source": [
    "Parece que existe 50% mais viagens feitas por assinantes (subscribers) no primeiro mês do que outro tipos de consumidores. Vamos tentar uma outra variável. Como é a distribuição da duração das viagens (trip duration)?"
   ]
  },
  {
   "cell_type": "code",
   "execution_count": 25,
   "metadata": {},
   "outputs": [
    {
     "data": {
      "text/plain": [
       "0    1.050000\n",
       "1    1.166667\n",
       "2    1.183333\n",
       "3    1.283333\n",
       "4    1.383333\n",
       "Name: duration, dtype: float64"
      ]
     },
     "metadata": {},
     "output_type": "display_data"
    }
   ],
   "source": [
    "data_teste = trip_data[(trip_data['duration'] < 60 )]\n",
    "len(data_teste)\n",
    "display(data_teste['duration'].head())"
   ]
  },
  {
   "cell_type": "code",
   "execution_count": 26,
   "metadata": {},
   "outputs": [
    {
     "data": {
      "image/png": "[encoded data removed]",
      "text/plain": [
       "<matplotlib.figure.Figure at 0xff5f2e8>"
      ]
     },
     "metadata": {},
     "output_type": "display_data"
    }
   ],
   "source": [
    "# TODO: Faça um gráfico baseado nas durações\n",
    "\n",
    "plt.figure(figsize=(10,8));\n",
    "plt.grid(True,axis='y')\n",
    "data = trip_data['duration']\n",
    "plt.hist(data,color = 'darkgreen')\n",
    "# u'texto' para os acentos em portugués - unicode\n",
    "plt.xlabel(u'Duração', fontsize=15 )\n",
    "plt.ylabel(u'Número de Viagens', fontsize=15)\n",
    "plt.title(u'Gráfico 2: Número de Viagens x Duração', fontsize=20)\n",
    "\n",
    "plt.show()"
   ]
  },
  {
   "cell_type": "code",
   "execution_count": 27,
   "metadata": {},
   "outputs": [
    {
     "data": {
      "image/png": "[encoded data removed]",
      "text/plain": [
       "<matplotlib.figure.Figure at 0xff5f0f0>"
      ]
     },
     "metadata": {},
     "output_type": "display_data"
    }
   ],
   "source": [
    "# rode este comando abaixo caso esteja em dúvida quanto ao resultado esperado\n",
    "usage_plot(trip_data, 'duration')"
   ]
  },
  {
   "cell_type": "markdown",
   "metadata": {},
   "source": [
    "Parece muito estranho, não é? Dê uma olhada nos valores de duração no eixo x. A maioria dos passeios deve ser de 30 minutos ou menos, uma vez que há taxas de excesso de tempo extra em uma única viagem. A primeira barra abrange durações de até 1000 minutos, ou mais de 16 horas. Com base nas estatísticas que obtivemos do `use_stats()`, deveríamos ter esperado algumas viagens com durações muito longas que levem a média a ser muito superior à mediana: o gráfico mostra isso de forma dramática, mas inútil.\n",
    "\n",
    "Ao explorar os dados, muitas vezes você precisará trabalhar com os parâmetros da função de visualização para facilitar a compreensão dos dados. É aqui que os filtros vão ajudar você. Comecemos por limitar as  viagens de menos de 60 minutos."
   ]
  },
  {
   "cell_type": "code",
   "execution_count": 340,
   "metadata": {},
   "outputs": [
    {
     "data": {
      "image/png": "[encoded data removed]",
      "text/plain": [
       "<matplotlib.figure.Figure at 0x185eb8d0>"
      ]
     },
     "metadata": {},
     "output_type": "display_data"
    }
   ],
   "source": [
    "# TODO: faça um gráfico de barras para os dados com duração inferior a 60 minutos.\n",
    "plt.figure(figsize=(8,16));\n",
    "\n",
    "data = trip_data[(trip_data['duration'] < 60 )]['duration']\n",
    "# Grafico acima com 10 barras - automático\n",
    "plt.subplot(2, 1, 1)\n",
    "plt.grid(True,axis='y')\n",
    "plt.grid(True,axis='x')\n",
    "\n",
    "plt.title(u'Gráfico 3: Número de Viagens x Duração < 60 minutos - 10 barras e 60 barras\\n', fontsize=20)\n",
    "plt.hist(data, color='navy', width= 6 ) # largura barra 60/10*80% => 75% do espaço\n",
    "plt.ylabel(u'Número de Viagens', fontsize=15)\n",
    "\n",
    "# Grafico debaixo com 60 barras - Coloquei para testar com mais barras se havia alguma mudança brusca\n",
    "plt.subplot(2, 1, 2)\n",
    "plt.grid(True,axis='y')\n",
    "plt.grid(True,axis='x')\n",
    "plt.hist(data,60, color='darkorange')\n",
    "plt.xlabel(u'Duração em Minutos', fontsize=15)\n",
    "plt.ylabel(u'Número de Viagens\\n', fontsize=15)\n",
    "\n",
    "plt.show()"
   ]
  },
  {
   "cell_type": "code",
   "execution_count": 284,
   "metadata": {},
   "outputs": [],
   "source": [
    "# descomente a linha abaixo para verificar o gráfico esperado.\n",
    "#usage_plot(trip_data, 'duration', ['duration < 60'])"
   ]
  },
  {
   "cell_type": "markdown",
   "metadata": {},
   "source": [
    "Isso está bem melhor! Você pode ver que a maioria das viagens têm menos de 30 minutos de duração, mas que você pode fazer mais para melhorar a apresentação. Uma vez que a duração mínima não é 0, a barra da esquerda está ligeiramente acima de 0. Nós queremos saber onde existe um limite perto dos 30 minutos, então ficará mais agradável se tivermos tamanhos de intervalos (bin sizes) e limites dos intervalos que correspondam a alguns minutos. \n",
    "\n",
    "Felizmente, o Pandas e o Matplotlib te dão a opção de resolver ester problemas. Uma das maneiras de fazê-lo é definindo qual o intervalo no eixo x (parâmetro range) e quantos intervalos desejamos (bins).\n",
    "\n",
    "No campo abaixo, faça o ajuste do gráfico para que os limites das barras se encontrem nas extremidades e que as barras tenham tamanho 5 (0, 5, 10, 15, etc). Se precisar, use a [documentação](http://matplotlib.org/api/_as_gen/matplotlib.axes.Axes.hist.html#matplotlib.axes.Axes.hist)."
   ]
  },
  {
   "cell_type": "code",
   "execution_count": 30,
   "metadata": {},
   "outputs": [
    {
     "data": {
      "image/png": "[encoded data removed]",
      "text/plain": [
       "<matplotlib.figure.Figure at 0x1218d438>"
      ]
     },
     "metadata": {},
     "output_type": "display_data"
    }
   ],
   "source": [
    "# faça o gráfico ajustado que começará no 0 e terá o bin size de 5\n",
    "plt.figure(figsize=(10,8));\n",
    "plt.title(u'Gráfico 4: Número de Viagens x Duração < 60 minutos - barras de 5 minutos\\n', fontsize=20)\n",
    "plt.grid(True,axis='y')\n",
    "plt.grid(True,axis='x')\n",
    "plt.hist(data,12, color='darkorange', range=(0,60))\n",
    "plt.xlabel(u'Duração em Minutos', fontsize=15)\n",
    "plt.ylabel(u'Número de Viagens\\n', fontsize=15)\n",
    "\n",
    "plt.show()"
   ]
  },
  {
   "cell_type": "code",
   "execution_count": 31,
   "metadata": {
    "collapsed": true
   },
   "outputs": [],
   "source": [
    "# rode esta linha para verificar como deve ficar o seu gráfico\n",
    "#usage_plot(trip_data, 'duration', ['duration < 60'], boundary = 0, bin_width = 5)"
   ]
  },
  {
   "cell_type": "markdown",
   "metadata": {},
   "source": [
    "Pequenos ajustes como este podem ser pequenos mas fazem toda a diferença na entrega de um trabalho de qualidade e com atenção aos detalhes.\n"
   ]
  },
  {
   "cell_type": "markdown",
   "metadata": {},
   "source": [
    "# Pergunta 4\n",
    "\n",
    "Analise o histograma do exercicio anterior e responda:\n",
    "\n",
    "Qual o intervalo de duração com maior quantidade de viagens?\n",
    "\n",
    "\n",
    "**Reposta**: Pela análise do gráfico 4 percebemos que o intervalo que tem o maior número de viagens é o entre 5 e 10 minutos."
   ]
  },
  {
   "cell_type": "markdown",
   "metadata": {},
   "source": [
    "# Pergunta 4.1\n",
    "\n",
    "Com base na sua resposta da pergunta anterior, conte quantas viagens existem para cada origem e destino desse intervalo de tempo. Monte uma tabela que demonstre isso. \n",
    "\n",
    "Qual origem e destino tem a maior quantidade de viagens?  Aproximadamente quantas viagens foram feitas nesta faixa de tempo?\n",
    "\n",
    "\n",
    " **Reposta**: A origem e destino que tem maior quantidade de viagens é São Francisco-São Francisco com 8110 ( viagens no intevalo entre 5 e 10 minutos ( 5 <=  duration < 10 minutos). Nesta faixa de tempo tivemos 9003 viagens."
   ]
  },
  {
   "cell_type": "code",
   "execution_count": 34,
   "metadata": {},
   "outputs": [
    {
     "name": "stdout",
     "output_type": "stream",
     "text": [
      "set(['Palo Alto', 'San Francisco', 'San Jose', 'Redwood City', 'Mountain View'])\n",
      "Total de Viagens no intervalo entre 5 e 10 minutos:  9003\n"
     ]
    },
    {
     "data": {
      "text/plain": [
       "start_city     end_city     \n",
       "Mountain View  Mountain View     105\n",
       "Palo Alto      Palo Alto          50\n",
       "Redwood City   Redwood City       66\n",
       "San Francisco  San Francisco    8110\n",
       "San Jose       San Jose          672\n",
       "Name: end_city, dtype: int64"
      ]
     },
     "metadata": {},
     "output_type": "display_data"
    },
    {
     "name": "stdout",
     "output_type": "stream",
     "text": [
      "O número de viagens de São Francisco representa 90.08 do total.\n",
      "\n",
      "\n",
      "Tabela de Origem destinos\n",
      "\n",
      "\n",
      "Palo Alto Palo Alto 50\n",
      "Palo Alto San Francisco 0\n",
      "Palo Alto San Jose 0\n",
      "Palo Alto Redwood City 0\n",
      "Palo Alto Mountain View 0\n",
      "San Francisco Palo Alto 0\n",
      "San Francisco San Francisco 8110\n",
      "San Francisco San Jose 0\n",
      "San Francisco Redwood City 0\n",
      "San Francisco Mountain View 0\n",
      "San Jose Palo Alto 0\n",
      "San Jose San Francisco 0\n",
      "San Jose San Jose 672\n",
      "San Jose Redwood City 0\n",
      "San Jose Mountain View 0\n",
      "Redwood City Palo Alto 0\n",
      "Redwood City San Francisco 0\n",
      "Redwood City San Jose 0\n",
      "Redwood City Redwood City 66\n",
      "Redwood City Mountain View 0\n",
      "Mountain View Palo Alto 0\n",
      "Mountain View San Francisco 0\n",
      "Mountain View San Jose 0\n",
      "Mountain View Redwood City 0\n",
      "Mountain View Mountain View 105\n"
     ]
    }
   ],
   "source": [
    "print cidades_atendidas\n",
    "total_viagens_int_5_10_min = len(trip_data[(trip_data['duration'] >= 5 )&(trip_data['duration'] < 10 )])\n",
    "print 'Total de Viagens no intervalo entre 5 e 10 minutos: ', total_viagens_int_5_10_min\n",
    "trip_data[(trip_data['duration'] >= 5 )&(trip_data['duration'] < 10 )&(trip_data['start_city'] == 'San Francisco')]\n",
    "#usando o groupby\n",
    "display(trip_data[(trip_data['duration'] >= 5 )&(trip_data['duration'] < 10 )].groupby(['start_city','end_city'])['end_city'].count())\n",
    "#percentual São Francisco\n",
    "total_viagesn_SF_int_5_10_min = float(trip_data[(trip_data['duration'] >= 5 )&(trip_data['duration'] < 10 )&(trip_data['start_city'] == 'San Francisco')]['start_city'].count())\n",
    "per_total_viagesn_SF_int_5_10_min =  total_viagesn_SF_int_5_10_min /  total_viagens_int_5_10_min\n",
    "print 'O número de viagens de São Francisco representa ' + str(round(per_total_viagesn_SF_int_5_10_min *100,2)) + ' do total.\\n\\n'\n",
    "#usando python para checar\n",
    "print 'Tabela de Origem destinos\\n'\n",
    "print\n",
    "for start_city in cidades_atendidas:\n",
    "    for end_city in cidades_atendidas:\n",
    "        print start_city , end_city, len(trip_data[(trip_data['duration'] >= 5 )&(trip_data['duration'] < 10 )&(trip_data['start_city'] ==  start_city)&(trip_data['end_city'] ==  end_city)])"
   ]
  },
  {
   "cell_type": "markdown",
   "metadata": {
    "collapsed": true
   },
   "source": [
    "## Fazendo suas Próprias Análises\n",
    "\n",
    "Agora que você fez alguma exploração em uma pequena amostra do conjunto de dados, é hora de avançar e reunir todos os dados em um único arquivo e ver quais tendências você pode encontrar. O código abaixo usará a mesma função `summarise_data()` para processar dados. Depois de executar a célula abaixo, você terá processado todos os dados em um único arquivo de dados. Observe que a função não exibirá qualquer saída enquanto ele é executado, e isso pode demorar um pouco para ser concluído, pois você tem muito mais dados do que a amostra com a qual você trabalhou."
   ]
  },
  {
   "cell_type": "code",
   "execution_count": 35,
   "metadata": {
    "collapsed": true
   },
   "outputs": [],
   "source": [
    "station_data = ['201402_station_data.csv',\n",
    "                '201408_station_data.csv',\n",
    "                '201508_station_data.csv' ]\n",
    "trip_in = ['201402_trip_data.csv',\n",
    "           '201408_trip_data.csv',\n",
    "           '201508_trip_data.csv' ]\n",
    "trip_out = 'babs_y1_y2_summary.csv'\n",
    "\n",
    "# Esta função irá ler as informações das estações e das viagens\n",
    "# e escreverá um arquivo processado com o nome trip_out\n",
    "summarise_data(trip_in, station_data, trip_out)"
   ]
  },
  {
   "cell_type": "markdown",
   "metadata": {},
   "source": [
    "Já que a função `summarise_data()` escreveu um arquivo de saída, a célula acima não precisa ser rodada novamente mesmo que este notebook seja fechado e uma nova sessão seja criada. Você pode simplesmente ler os dados novamente e fazer a exploração deste ponto (não esqueça de executar a parte das funções no começo do notebook caso esteja em uma nova sessão)"
   ]
  },
  {
   "cell_type": "code",
   "execution_count": 36,
   "metadata": {},
   "outputs": [
    {
     "data": {
      "text/html": [
       "<div>\n",
       "<style>\n",
       "    .dataframe thead tr:only-child th {\n",
       "        text-align: right;\n",
       "    }\n",
       "\n",
       "    .dataframe thead th {\n",
       "        text-align: left;\n",
       "    }\n",
       "\n",
       "    .dataframe tbody tr th {\n",
       "        vertical-align: top;\n",
       "    }\n",
       "</style>\n",
       "<table border=\"1\" class=\"dataframe\">\n",
       "  <thead>\n",
       "    <tr style=\"text-align: right;\">\n",
       "      <th></th>\n",
       "      <th>duration</th>\n",
       "      <th>start_date</th>\n",
       "      <th>start_year</th>\n",
       "      <th>start_month</th>\n",
       "      <th>start_hour</th>\n",
       "      <th>weekday</th>\n",
       "      <th>start_city</th>\n",
       "      <th>end_city</th>\n",
       "      <th>subscription_type</th>\n",
       "    </tr>\n",
       "  </thead>\n",
       "  <tbody>\n",
       "    <tr>\n",
       "      <th>0</th>\n",
       "      <td>1.050000</td>\n",
       "      <td>29</td>\n",
       "      <td>2013</td>\n",
       "      <td>8</td>\n",
       "      <td>14</td>\n",
       "      <td>3</td>\n",
       "      <td>San Francisco</td>\n",
       "      <td>San Francisco</td>\n",
       "      <td>Subscriber</td>\n",
       "    </tr>\n",
       "    <tr>\n",
       "      <th>1</th>\n",
       "      <td>1.166667</td>\n",
       "      <td>29</td>\n",
       "      <td>2013</td>\n",
       "      <td>8</td>\n",
       "      <td>14</td>\n",
       "      <td>3</td>\n",
       "      <td>San Jose</td>\n",
       "      <td>San Jose</td>\n",
       "      <td>Subscriber</td>\n",
       "    </tr>\n",
       "    <tr>\n",
       "      <th>2</th>\n",
       "      <td>1.183333</td>\n",
       "      <td>29</td>\n",
       "      <td>2013</td>\n",
       "      <td>8</td>\n",
       "      <td>10</td>\n",
       "      <td>3</td>\n",
       "      <td>Mountain View</td>\n",
       "      <td>Mountain View</td>\n",
       "      <td>Subscriber</td>\n",
       "    </tr>\n",
       "    <tr>\n",
       "      <th>3</th>\n",
       "      <td>1.283333</td>\n",
       "      <td>29</td>\n",
       "      <td>2013</td>\n",
       "      <td>8</td>\n",
       "      <td>11</td>\n",
       "      <td>3</td>\n",
       "      <td>San Jose</td>\n",
       "      <td>San Jose</td>\n",
       "      <td>Subscriber</td>\n",
       "    </tr>\n",
       "    <tr>\n",
       "      <th>4</th>\n",
       "      <td>1.383333</td>\n",
       "      <td>29</td>\n",
       "      <td>2013</td>\n",
       "      <td>8</td>\n",
       "      <td>12</td>\n",
       "      <td>3</td>\n",
       "      <td>San Francisco</td>\n",
       "      <td>San Francisco</td>\n",
       "      <td>Subscriber</td>\n",
       "    </tr>\n",
       "  </tbody>\n",
       "</table>\n",
       "</div>"
      ],
      "text/plain": [
       "   duration  start_date  start_year  start_month  start_hour  weekday  \\\n",
       "0  1.050000          29        2013            8          14        3   \n",
       "1  1.166667          29        2013            8          14        3   \n",
       "2  1.183333          29        2013            8          10        3   \n",
       "3  1.283333          29        2013            8          11        3   \n",
       "4  1.383333          29        2013            8          12        3   \n",
       "\n",
       "      start_city       end_city subscription_type  \n",
       "0  San Francisco  San Francisco        Subscriber  \n",
       "1       San Jose       San Jose        Subscriber  \n",
       "2  Mountain View  Mountain View        Subscriber  \n",
       "3       San Jose       San Jose        Subscriber  \n",
       "4  San Francisco  San Francisco        Subscriber  "
      ]
     },
     "metadata": {},
     "output_type": "display_data"
    }
   ],
   "source": [
    "trip_data_full = pd.read_csv('babs_y1_y2_summary.csv')\n",
    "display(trip_data_full.head())"
   ]
  },
  {
   "cell_type": "markdown",
   "metadata": {},
   "source": [
    "#### Agora é a SUA vez de fazer a exploração do dataset (do conjunto de dados) completo.\n",
    "\n",
    "Aproveite para fazer filtros nos dados e tentar encontrar padrões nos dados."
   ]
  },
  {
   "cell_type": "markdown",
   "metadata": {},
   "source": [
    "Explore algumas variáveis diferentes usando o mesmo racional acima e tome nota de algumas tendências que você encontra. Sinta-se livre para criar células adicionais se quiser explorar o conjunto de dados de outras maneiras ou de várias maneiras.\n",
    "\n",
    "> **Dica**: para adicionar células adicionais a um notebook, você pode usar as opções \"Inserir célula acima\" (Insert Cell Above) e \"Insert Cell Below\" na barra de menu acima. Há também um ícone na barra de ferramentas para adicionar novas células, com ícones adicionais para mover as células para cima e para baixo do documento. Por padrão, as novas células são do tipo de código; Você também pode especificar o tipo de célula (por exemplo, Código ou Markdown) das células selecionadas no menu Cell ou no menu dropdown na barra de ferramentas.\n",
    "\n",
    "Um feito com suas explorações, copie as duas visualizações que você achou mais interessantes nas células abaixo e responda as seguintes perguntas com algumas frases descrevendo o que você encontrou e por que você selecionou os números. Certifique-se de que você ajusta o número de caixas ou os limites da bandeja para que efetivamente transmitam os resultados dos dados. Sinta-se livre para complementar isso com quaisquer números adicionais gerados a partir de `use_stats()` ou coloque visualizações múltiplas para suportar suas observações."
   ]
  },
  {
   "cell_type": "markdown",
   "metadata": {},
   "source": [
    "Para ver alguns outros tipos de gráficos que o matplotlib (padrão do Pandas) possui, leia [este artigo](https://www.labri.fr/perso/nrougier/teaching/matplotlib/#other-types-of-plots). \n",
    "\n",
    "Para entender um pouco mais como e quais gráficos podem ser úteis, leia [este documento](https://www.tableau.com/sites/default/files/media/Whitepapers/which_chart_v6_ptb.pdf). Ele lhe dará um pouco de idéia de como mostrar os dados de forma mais acertada"
   ]
  },
  {
   "cell_type": "markdown",
   "metadata": {},
   "source": [
    "# Pergunta 5a\n",
    "Explore os dados e faça um gráfico que demonstre alguma particularidade dos dados:"
   ]
  },
  {
   "cell_type": "code",
   "execution_count": 121,
   "metadata": {},
   "outputs": [
    {
     "data": {
      "image/png": "[encoded data removed]",
      "text/plain": [
       "<matplotlib.figure.Figure at 0x172cc278>"
      ]
     },
     "metadata": {},
     "output_type": "display_data"
    },
    {
     "name": "stdout",
     "output_type": "stream",
     "text": [
      "start_month\n",
      "1      6182\n",
      "2      5172\n",
      "3      7883\n",
      "4      7408\n",
      "5      9120\n",
      "6      8871\n",
      "7      9976\n",
      "8     11478\n",
      "9     13702\n",
      "10    10513\n",
      "11     7382\n",
      "12     5526\n",
      "Name: start_month, dtype: int64\n"
     ]
    }
   ],
   "source": [
    "data_graphic_5_subs = trip_data_full[ trip_data_full['subscription_type'] == 'Subscriber'] ['start_month']\n",
    "data_graphic_5_cus = trip_data_full[ trip_data_full['subscription_type'] == 'Customer'] ['start_month']\n",
    "data_graphic_5_cus_week = trip_data_full[ (trip_data_full['subscription_type'] == 'Customer')] ['start_month']\n",
    "\n",
    "plt.figure(figsize=(20,8));\n",
    "plt.subplot(121)\n",
    "plt.title(u'Gráfico 4: Número de Viagens x Mês - Compram Passes\\n', fontsize=15)\n",
    "plt.grid(True,axis='y')\n",
    "plt.grid(True,axis='x')\n",
    "\n",
    "plt.hist(data_graphic_5_cus,12, color='blue', range=(1,13))\n",
    "\n",
    "plt.xlabel(u'Meses do Ano', fontsize=15)\n",
    "plt.ylabel(u'Número de Viagens\\n', fontsize=15)\n",
    "plt.annotate(u'Meses de Férias', xy=(9.5, 13000), xytext=(11, 13500),\n",
    "            arrowprops=dict(facecolor='y', shrink=0.05),\n",
    "            )\n",
    "plt.subplot(122)\n",
    "plt.title(u'Gráfico 5: Número de Viagens x Mês - Assinantes\\n', fontsize=15)\n",
    "plt.grid(True,axis='y')\n",
    "plt.grid(True,axis='x')\n",
    "plt.hist(data_graphic_5_subs,12, color='olive', range=(1,13))\n",
    "plt.xlabel(u'Meses do Ano', fontsize=15)\n",
    "plt.show()\n",
    "\n",
    "print trip_data_full[ trip_data_full['subscription_type'] == 'Customer'].groupby(['start_month'])['start_month'].count()"
   ]
  },
  {
   "cell_type": "markdown",
   "metadata": {},
   "source": [
    "O que é interessante na visualização acima? Por que você a selecionou?\n",
    "\n",
    "**Answer**: \n",
    "Pelo análise inicial do __Gráfico 4:Número de Viagens x Mês - Compram Passes__ percebemos um aumento do número de viagens nos meses de férias e verão na Bay Area. Pode ser mais um indicativo forte de que os usuários avulso são na sua maioria turistas que compram estes passes. Complementando a análise de __Tyler Field__ (que inferi pela distribuição dos horários de viagem que esses usuários devem ser na sua maioria turistas).\n",
    "\n",
    "\n",
    "Também pela análise do __Gráfico 5:Número de Viagens x Mês - Assinantes__ percebemos uma distribuição mais uniforme de viagens feitas pelos __Assinantes__ ao longo do ano, tendo uma queda mforte em dezembro (época mais chuvoso na Bay Area e com ferias de NaTal e ano novo) o que podemos também inferir que os assinantes devem ser moradores da região.  Corroborando com os resultados da análise de __Tyler Field__ também (moradores que usam o sistema para ir ao trabalho)."
   ]
  },
  {
   "cell_type": "markdown",
   "metadata": {},
   "source": [
    "# Pergunta 5b\n",
    "Faça um gráfico que demonstre alguma particularidade dos dados:"
   ]
  },
  {
   "cell_type": "code",
   "execution_count": 40,
   "metadata": {
    "collapsed": true
   },
   "outputs": [],
   "source": [
    "# esta nova função será usada mais tarde para criar o mapeamento entre station e cidade\n",
    "def create_station_mapping_plu(station_data):\n",
    "    \"\"\"\n",
    "    Cria um mapeamento (tambémm conhecido como de-para) entre a estação \n",
    "    e a cidade\n",
    "    \"\"\"\n",
    "    # TODO: Inicie esta variável de maneira correta.\n",
    "    \n",
    "    station_map = {} # Dictionary key station_id and data city name\n",
    "    \n",
    "    for data_file in station_data:\n",
    "        with open(data_file, 'r') as f_in:\n",
    "            # configura o objeto csv reader - note que está sendo usado o DictReader,\n",
    "            # que usa a primeira linha do arquivo como cabeçalho e cria as chaves\n",
    "            # do dicionário com estes valores.\n",
    "            weather_reader = csv.DictReader(f_in)\n",
    "\n",
    "            for row in weather_reader:\n",
    "                # TODO: faça o mapeamento aqui\n",
    "                station = row['station_id']\n",
    "                city_name = row['landmark']\n",
    "                #PLUS Data\n",
    "                dock_count = int(row['dockcount'])\n",
    "                lat = float(row['lat'])\n",
    "                longi = float(row['long'])\n",
    "                \n",
    "                station_map[station] = [city_name, dock_count, lat, longi]\n",
    "    return station_map"
   ]
  },
  {
   "cell_type": "code",
   "execution_count": 59,
   "metadata": {},
   "outputs": [],
   "source": [
    "station_data = ['201402_station_data.csv',\n",
    "                '201408_station_data.csv',\n",
    "                '201508_station_data.csv' ]\n",
    "trip_in = ['201402_trip_data.csv',\n",
    "           '201408_trip_data.csv',\n",
    "           '201508_trip_data.csv' ]\n",
    "trip_out = 'babs_y1_y2_summary_plus.csv'\n",
    "\n",
    "# Esta função irá ler as informações das estações e das viagens\n",
    "# e escreverá um arquivo processado com o nome trip_out\n",
    "summarise_data_plus(trip_in, station_data, trip_out)"
   ]
  },
  {
   "cell_type": "code",
   "execution_count": 58,
   "metadata": {
    "collapsed": true
   },
   "outputs": [],
   "source": [
    "def summarise_data_plus(trip_in, station_data, trip_out):\n",
    "    \"\"\"\n",
    "    Esta função recebe informações de viagem e estação e produz um novo\n",
    "    arquivo de dados com um resumo condensado das principais informações de viagem.Os \n",
    "    argumentos trip_in e station_data serão listas de arquivos de dados para\n",
    "    as informações da viagem e da estação enquanto trip_out especifica o local\n",
    "    para o qual os dados sumarizados serão escritos.\n",
    "    \"\"\"\n",
    "    # gera o dicionário de mapeamento entre estações e cidades\n",
    "    station_map = create_station_mapping(station_data)\n",
    "    \n",
    "    with open(trip_out, 'w') as f_out:\n",
    "        # configura o objeto de escrita de csv       \n",
    "        out_colnames = ['duration', 'start_date', 'start_year',\n",
    "                        'start_month', 'start_hour', 'weekday',\n",
    "                        'start_city', 'end_city', 'subscription_type','start_station','end_station']        \n",
    "        trip_writer = csv.DictWriter(f_out, fieldnames = out_colnames)\n",
    "        trip_writer.writeheader()\n",
    "        \n",
    "        for data_file in trip_in:\n",
    "            with open(data_file, 'r') as f_in:\n",
    "                # configura o leitor do csv\n",
    "                trip_reader = csv.DictReader(f_in)\n",
    "\n",
    "                # processa cada linha lendo uma a uma\n",
    "                for row in trip_reader:\n",
    "                    new_point = {}\n",
    "                    \n",
    "                    # converte a duração de segundos para minutos.\n",
    "                    ### TODO: Pergunta 3a: Adicione uma operação matemática       ###\n",
    "                    ### para converter a duração de segundos para minutos.  ###\n",
    "                    new_point['duration'] = float(row['Duration'])/60.0\n",
    "                    \n",
    "                    # reformate strings com datas para múltiplas colunas\n",
    "                    ### TODO: Pergunta 3b: Preencha os __ abaixo para criar os        ###\n",
    "                    ### campos experados nas colunas (olhe pelo nome da coluna) ###\n",
    "                    trip_date = datetime.strptime(row['Start Date'], '%m/%d/%Y %H:%M')\n",
    "                    new_point['start_date']  = trip_date.day\n",
    "                    new_point['start_year']  = trip_date.year\n",
    "                    new_point['start_month'] = trip_date.month\n",
    "                    new_point['start_hour']  = trip_date.hour\n",
    "                    new_point['weekday']     = trip_date.weekday()\n",
    "                    \n",
    "                    # TODO: mapeia o terminal de inicio e fim com o a cidade de inicio e fim\n",
    "                    new_point['start_city'] = station_map[row['Start Terminal']]\n",
    "                    new_point['start_station'] = row['Start Terminal']\n",
    "                    new_point['end_city'] = station_map[row['End Terminal']]\n",
    "                    new_point['end_station'] = row['End Terminal']\n",
    "                    \n",
    "                    # TODO: existem dois nomes diferentes para o mesmo campo. Trate cada um deles.\n",
    "                    if 'Subscription Type' in row:\n",
    "                        new_point['subscription_type'] = row['Subscription Type']\n",
    "                    else:\n",
    "                        new_point['subscription_type'] = row['Subscriber Type']\n",
    "\n",
    "                    # escreve a informação processada para o arquivo de saída.\n",
    "                    trip_writer.writerow(new_point)"
   ]
  },
  {
   "cell_type": "code",
   "execution_count": 60,
   "metadata": {},
   "outputs": [
    {
     "data": {
      "text/html": [
       "<div>\n",
       "<style>\n",
       "    .dataframe thead tr:only-child th {\n",
       "        text-align: right;\n",
       "    }\n",
       "\n",
       "    .dataframe thead th {\n",
       "        text-align: left;\n",
       "    }\n",
       "\n",
       "    .dataframe tbody tr th {\n",
       "        vertical-align: top;\n",
       "    }\n",
       "</style>\n",
       "<table border=\"1\" class=\"dataframe\">\n",
       "  <thead>\n",
       "    <tr style=\"text-align: right;\">\n",
       "      <th></th>\n",
       "      <th>duration</th>\n",
       "      <th>start_date</th>\n",
       "      <th>start_year</th>\n",
       "      <th>start_month</th>\n",
       "      <th>start_hour</th>\n",
       "      <th>weekday</th>\n",
       "      <th>start_city</th>\n",
       "      <th>end_city</th>\n",
       "      <th>subscription_type</th>\n",
       "      <th>start_station</th>\n",
       "      <th>end_station</th>\n",
       "    </tr>\n",
       "  </thead>\n",
       "  <tbody>\n",
       "    <tr>\n",
       "      <th>0</th>\n",
       "      <td>1.050000</td>\n",
       "      <td>29</td>\n",
       "      <td>2013</td>\n",
       "      <td>8</td>\n",
       "      <td>14</td>\n",
       "      <td>3</td>\n",
       "      <td>San Francisco</td>\n",
       "      <td>San Francisco</td>\n",
       "      <td>Subscriber</td>\n",
       "      <td>66</td>\n",
       "      <td>66</td>\n",
       "    </tr>\n",
       "    <tr>\n",
       "      <th>1</th>\n",
       "      <td>1.166667</td>\n",
       "      <td>29</td>\n",
       "      <td>2013</td>\n",
       "      <td>8</td>\n",
       "      <td>14</td>\n",
       "      <td>3</td>\n",
       "      <td>San Jose</td>\n",
       "      <td>San Jose</td>\n",
       "      <td>Subscriber</td>\n",
       "      <td>10</td>\n",
       "      <td>10</td>\n",
       "    </tr>\n",
       "    <tr>\n",
       "      <th>2</th>\n",
       "      <td>1.183333</td>\n",
       "      <td>29</td>\n",
       "      <td>2013</td>\n",
       "      <td>8</td>\n",
       "      <td>10</td>\n",
       "      <td>3</td>\n",
       "      <td>Mountain View</td>\n",
       "      <td>Mountain View</td>\n",
       "      <td>Subscriber</td>\n",
       "      <td>27</td>\n",
       "      <td>27</td>\n",
       "    </tr>\n",
       "    <tr>\n",
       "      <th>3</th>\n",
       "      <td>1.283333</td>\n",
       "      <td>29</td>\n",
       "      <td>2013</td>\n",
       "      <td>8</td>\n",
       "      <td>11</td>\n",
       "      <td>3</td>\n",
       "      <td>San Jose</td>\n",
       "      <td>San Jose</td>\n",
       "      <td>Subscriber</td>\n",
       "      <td>10</td>\n",
       "      <td>10</td>\n",
       "    </tr>\n",
       "    <tr>\n",
       "      <th>4</th>\n",
       "      <td>1.383333</td>\n",
       "      <td>29</td>\n",
       "      <td>2013</td>\n",
       "      <td>8</td>\n",
       "      <td>12</td>\n",
       "      <td>3</td>\n",
       "      <td>San Francisco</td>\n",
       "      <td>San Francisco</td>\n",
       "      <td>Subscriber</td>\n",
       "      <td>66</td>\n",
       "      <td>67</td>\n",
       "    </tr>\n",
       "  </tbody>\n",
       "</table>\n",
       "</div>"
      ],
      "text/plain": [
       "   duration  start_date  start_year  start_month  start_hour  weekday  \\\n",
       "0  1.050000          29        2013            8          14        3   \n",
       "1  1.166667          29        2013            8          14        3   \n",
       "2  1.183333          29        2013            8          10        3   \n",
       "3  1.283333          29        2013            8          11        3   \n",
       "4  1.383333          29        2013            8          12        3   \n",
       "\n",
       "      start_city       end_city subscription_type  start_station  end_station  \n",
       "0  San Francisco  San Francisco        Subscriber             66           66  \n",
       "1       San Jose       San Jose        Subscriber             10           10  \n",
       "2  Mountain View  Mountain View        Subscriber             27           27  \n",
       "3       San Jose       San Jose        Subscriber             10           10  \n",
       "4  San Francisco  San Francisco        Subscriber             66           67  "
      ]
     },
     "metadata": {},
     "output_type": "display_data"
    }
   ],
   "source": [
    "trip_data_full_plus = pd.read_csv('babs_y1_y2_summary_plus.csv')\n",
    "display(trip_data_full_plus.head())"
   ]
  },
  {
   "cell_type": "code",
   "execution_count": 483,
   "metadata": {},
   "outputs": [
    {
     "name": "stdout",
     "output_type": "stream",
     "text": [
      "Número de Estações em San Francisco 35\n",
      "Diferença entre início e chegadas das estações em San Francisco durante o rush da Manhã (das 7 as 9hr)\n",
      "Diferença Média 3355.48571429 \n",
      "Diferença Máxima 11849\n",
      "start_station\n",
      "65    -6608\n",
      "51    -4986\n",
      "48    -4535\n",
      "77    -4286\n",
      "61    -4135\n",
      "63    -4087\n",
      "41    -3612\n",
      "60    -3569\n",
      "45    -3372\n",
      "68    -3187\n",
      "64    -2985\n",
      "75    -2774\n",
      "76    -2241\n",
      "82    -2130\n",
      "47    -2076\n",
      "57    -1988\n",
      "42    -1605\n",
      "46     -237\n",
      "49     -130\n",
      "67     -107\n",
      "62      -71\n",
      "39      284\n",
      "58      791\n",
      "56      964\n",
      "66     1231\n",
      "59     1477\n",
      "74     2643\n",
      "71     3039\n",
      "72     3535\n",
      "54     4180\n",
      "55     6048\n",
      "73     6161\n",
      "50     7176\n",
      "69     9343\n",
      "70    11849\n",
      "dtype: int64\n",
      "\n",
      "Diferença entre início e chegadas das estações em San Francisco durante o rush da Tarde (das 16 as 18hr)\n",
      "Diferença Média 2848.0 \n",
      "Diferença Máxima 21796.0\n",
      "70   -21796.0\n",
      "69   -10556.0\n",
      "50    -6682.0\n",
      "72    -3180.0\n",
      "55    -3021.0\n",
      "74    -2590.0\n",
      "54    -2098.0\n",
      "39    -1890.0\n",
      "73     -777.0\n",
      "46     -576.0\n",
      "71     -503.0\n",
      "59     -428.0\n",
      "58      -13.0\n",
      "22        0.0\n",
      "23        0.0\n",
      "31        0.0\n",
      "49      665.0\n",
      "77      727.0\n",
      "66      749.0\n",
      "42     1116.0\n",
      "57     1126.0\n",
      "56     1154.0\n",
      "47     1658.0\n",
      "76     1784.0\n",
      "75     1923.0\n",
      "68     2209.0\n",
      "61     2387.0\n",
      "67     2432.0\n",
      "60     2658.0\n",
      "41     2908.0\n",
      "82     3055.0\n",
      "63     3393.0\n",
      "45     3572.0\n",
      "48     3647.0\n",
      "62     4105.0\n",
      "64     4206.0\n",
      "65     4207.0\n",
      "51     4433.0\n",
      "dtype: float64\n"
     ]
    }
   ],
   "source": [
    "#Start Station Morning Rush 7 as 9 hrs\n",
    "sf_start_st_trip_count_morning = trip_data_full_plus[(trip_data_full_plus['start_city'] == 'San Francisco') & (trip_data_full_plus['start_hour'] >= 7 ) & (trip_data_full_plus['start_hour'] <= 9 )].groupby('start_station')['end_station'].count()\n",
    "#print sf_start_st_trip_count_morning.values\n",
    "print u'Número de Estações em San Francisco',len(sf_start_st_trip_count_morning)\n",
    "\n",
    "#End Station Morning Rush 7 as 9 hrs\n",
    "sf_end_st_trip_count_morning = trip_data_full_plus[(trip_data_full_plus['start_city'] == 'San Francisco') & (trip_data_full_plus['start_hour'] >= 7 ) & (trip_data_full_plus['start_hour'] <= 9 )].groupby('end_station')['start_station'].count()\n",
    "#print sf_end_st_trip_count_morning.values\n",
    "len(sf_end_st_trip_count_morning)\n",
    "print u'Diferença entre início e chegadas das estações em San Francisco durante o rush da Manhã (das 7 as 9hr)'\n",
    "rush_manha = (sf_start_st_trip_count_morning - sf_end_st_trip_count_morning).fillna(0)\n",
    "print u'Diferença Média',rush_manha.map(abs).mean(), '\\nDiferença Máxima',rush_manha.map(abs).max()\n",
    "print rush_manha.sort_values()\n",
    "\n",
    "#Start Statio Afternoon Rush 16 as 18 hrs\n",
    "sf_start_st_trip_count_afternoon = trip_data_full_plus[(trip_data_full_plus['start_city'] == 'San Francisco') & (trip_data_full_plus['start_hour'] >= 16 ) & (trip_data_full_plus['start_hour'] <= 18 )].groupby('start_station')['end_station'].count()\n",
    "#print sf_start_st_trip_count_afternoon.values\n",
    "len(sf_start_st_trip_count_afternoon)\n",
    "\n",
    "#End Statio Afternoon Rush 16 as 18 hrs\n",
    "sf_end_st_trip_count_afternoon = trip_data_full_plus[(trip_data_full_plus['start_city'] == 'San Francisco') & (trip_data_full_plus['start_hour'] >= 16 ) & (trip_data_full_plus['start_hour'] <= 18 )].groupby('end_station')['start_station'].count()\n",
    "#print sf_end_st_trip_count_afternoon.values\n",
    "len(sf_end_st_trip_count_afternoon)\n",
    "print u'\\nDiferença entre início e chegadas das estações em San Francisco durante o rush da Tarde (das 16 as 18hr)'\n",
    "rush_tarde = (sf_start_st_trip_count_afternoon - sf_end_st_trip_count_afternoon).fillna(0)\n",
    "print u'Diferença Média',rush_tarde.map(abs).mean(), '\\nDiferença Máxima',rush_tarde.map(abs).max()\n",
    "print rush_tarde.sort_values()"
   ]
  },
  {
   "cell_type": "code",
   "execution_count": 484,
   "metadata": {},
   "outputs": [
    {
     "data": {
      "image/png": "[encoded data removed]",
      "text/plain": [
       "<matplotlib.figure.Figure at 0x6b478668>"
      ]
     },
     "metadata": {},
     "output_type": "display_data"
    }
   ],
   "source": [
    "# Gráfico Final 2\n",
    "data_graphic_6_y = sf_start_st_trip_count_morning.values\n",
    "data_graphic_6_x = sf_start_st_trip_count_morning.index\n",
    "\n",
    "data_graphic_7_y = sf_end_st_trip_count_morning.values\n",
    "data_graphic_7_x = sf_end_st_trip_count_morning.index\n",
    "\n",
    "data_graphic_8_y = sf_start_st_trip_count_afternoon.values\n",
    "data_graphic_8_x = sf_start_st_trip_count_afternoon.index\n",
    "\n",
    "data_graphic_9_y = sf_end_st_trip_count_afternoon.values\n",
    "data_graphic_9_x = sf_end_st_trip_count_afternoon.index\n",
    "# Graficos Viagens por Estação \n",
    "fig = plt.figure(figsize=(14,20));\n",
    "fig.set_facecolor('gainsboro')\n",
    "plt.tight_layout(0,0) \n",
    "\n",
    "# Grafico 6\n",
    "plt.subplot(211, facecolor='whitesmoke')\n",
    "plt.title(u'Gráfico 6: Viagens x Estação - Rush Manhã - San Francisco - Assinantes\\n', fontsize=20)\n",
    "\n",
    "g6 = plt.bar(data_graphic_6_x,data_graphic_6_y,width=0.4, align='edge',color='cornflowerblue', alpha=1)\n",
    "g7 = plt.bar(data_graphic_7_x ,data_graphic_7_y, width=-0.4,align='edge',color='mediumaquamarine', alpha=0.9)\n",
    "\n",
    "x1,x2,y1,y2 = plt.axis()\n",
    "plt.axis((39,82,0,35000))\n",
    "plt.grid(True,axis='y')\n",
    "plt.grid(True,axis='x')\n",
    "plt.ylabel(u'Número de Viagens\\n', fontsize=18, verticalalignment='center')\n",
    "\n",
    "plt.text(60,29000, u'Delta Chegadas e Partidas\\nMédia:' + str( round(rush_manha.map(abs).mean(),0) ) + u'\\nMáxima:' + str( round(rush_manha.map(abs).max(),0)),\n",
    "         fontsize=12, \n",
    "         bbox=dict(facecolor='khaki', alpha=0.8,pad=8)  \n",
    "        )\n",
    "\n",
    "plt.legend(['Partidas','Chegadas'], fontsize=13)\n",
    "# Gráfico 7\n",
    "plt.subplot(212, facecolor='whitesmoke')\n",
    "\n",
    "plt.title(u'Gráfico 7: Viagens x Estação - Rush Tarde - San Francisco - Assinantes\\n', fontsize=20)\n",
    " \n",
    "\n",
    "g8 = plt.bar(data_graphic_8_x, data_graphic_8_y,width=0.4, align='edge',color='indianred', alpha=1)\n",
    "g9 = plt.bar(data_graphic_9_x ,data_graphic_9_y, width=-0.4,align='edge',color='indigo', alpha=0.9)\n",
    "\n",
    "x1,x2,y1,y2 = plt.axis()\n",
    "plt.axis((39,82,0,35000))\n",
    "plt.grid(True,axis='y')\n",
    "plt.grid(True,axis='x')\n",
    "plt.ylabel(u'Número de Viagens\\n', fontsize=18, verticalalignment='center')\n",
    "\n",
    "plt.text(60,29000, \n",
    "         u'Delta Chegadas e Partidas\\nMédia:' + str( round(rush_tarde.map(abs).mean(),0) ) + u'\\nMáxima:' + str( round(rush_tarde.map(abs).max(),0)),\n",
    "         fontsize=12, \n",
    "         bbox=dict(facecolor='khaki', alpha=0.8,pad=8)\n",
    "        )\n",
    "plt.legend(['Partidas','Chegadas'], fontsize=13)\n",
    "# Exibir Gráficos\n",
    "plt.show()\n"
   ]
  },
  {
   "cell_type": "markdown",
   "metadata": {},
   "source": [
    "O que é interessante na visualização acima? Por que você a selecionou?\n",
    "\n",
    "**Answer**: Para mim se o sistema esta sendo acessado por assinates que querem ir ao trabalho, é fundamental ter disponível bicicletas para completar a viagem.\n",
    "Por isso o que me interessou na visualização acima foram os picos de demanda no horário de rush em San Francisco, e perceber que existe uma diferença grande entre a saída e chegada de bikes em algumas estações, marcadamente as de número 70,69 e 50. \n",
    "O que a princípio no meu entender pode ocasionar a falta de bikes nestas estações e com isso gerar uma _User Experience_ negativa. Mas para ter certeza temos de fazer uma análise mais detalhada por dia e ver se esta ajustado o sistema.\n",
    "Eu selecionei porque com essa informação a empresa pode gerar ações para melhorar a experiência do usuário, como fazer promoções (e.g um café gratuiro se não tiver a bike, ou uma corrida de Uber compartilhada) ou executar ações (e.g. aumento de baias ou levar mais bikes para serem usadas ocasionalmente ).\n"
   ]
  },
  {
   "cell_type": "markdown",
   "metadata": {},
   "source": [
    "## Conclusões\n",
    "\n",
    "Parabéns pela conclusão do projeto! Esta é apenas uma amostragem do processo de análise de dados: gerando perguntas, limpando e explorando os dados. Normalmente, neste momento no processo de análise de dados, você pode querer tirar conclusões realizando um teste estatístico ou ajustando os dados a um modelo para fazer previsões. Há também muitas análises potenciais que podem ser realizadas se evoluirmos o código fornecido. Em vez de apenas olhar para o número de viagens no eixo de resultados, você pode ver quais recursos afetam coisas como a duração da viagem. Nós também não analisamos como os dados meteorológicos se encaixam no uso de bicicletas."
   ]
  },
  {
   "cell_type": "markdown",
   "metadata": {},
   "source": [
    "# Pergunta 6\n",
    "Pense em um tópico ou campo de interesse onde você gostaria de poder aplicar as técnicas da ciência dos dados. O que você gostaria de aprender com o assunto escolhido?\n",
    "\n",
    "**Responda**: Uma área que me interesso muito é a área financeira. Queria fazer uma análise sobre ciclos economicos e seu impacto no valor e na avaliação de empresas. Se esses ciclos podem ser previstos, ou pelo menos considerados em intervalos de tempo de 5, 10 e 20 anos (qual probabilidade de ocorrência e duração estimada no periodo)."
   ]
  },
  {
   "cell_type": "markdown",
   "metadata": {},
   "source": [
    "> **Dica**: se quisermos compartilhar os resultados de nossa análise com os outros, existe uma outra opção que não é enviar o arquivo jupyter Notebook (.ipynb). Também podemos exportar a saída do Notebook de uma forma que pode ser aberto mesmo para aqueles sem o Python instalado. No menu **File** na parte superior esquerda, vá para o submenu **Download as**. Você pode então escolher um formato diferente que pode ser visto de forma mais geral, como HTML (.html) ou PDF (.pdf). Você pode precisar de pacotes adicionais ou software para executar essas exportações."
   ]
  }
 ],
 "metadata": {
  "anaconda-cloud": {},
  "kernelspec": {
   "display_name": "Python [default]",
   "language": "python",
   "name": "python2"
  },
  "language_info": {
   "codemirror_mode": {
    "name": "ipython",
    "version": 2
   },
   "file_extension": ".py",
   "mimetype": "text/x-python",
   "name": "python",
   "nbconvert_exporter": "python",
   "pygments_lexer": "ipython2",
   "version": "2.7.14"
  }
 },
 "nbformat": 4,
 "nbformat_minor": 1
}
