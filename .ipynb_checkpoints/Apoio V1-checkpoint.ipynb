{
 "cells": [
  {
   "cell_type": "code",
   "execution_count": 63,
   "metadata": {
    "collapsed": true
   },
   "outputs": [],
   "source": [
    "import pandas as pd\n",
    "import numpy as np"
   ]
  },
  {
   "cell_type": "code",
   "execution_count": 64,
   "metadata": {
    "collapsed": true
   },
   "outputs": [],
   "source": [
    "station_df = pd.read_csv('201408_station_data.csv')"
   ]
  },
  {
   "cell_type": "code",
   "execution_count": 65,
   "metadata": {},
   "outputs": [
    {
     "data": {
      "text/html": [
       "<div>\n",
       "<style>\n",
       "    .dataframe thead tr:only-child th {\n",
       "        text-align: right;\n",
       "    }\n",
       "\n",
       "    .dataframe thead th {\n",
       "        text-align: left;\n",
       "    }\n",
       "\n",
       "    .dataframe tbody tr th {\n",
       "        vertical-align: top;\n",
       "    }\n",
       "</style>\n",
       "<table border=\"1\" class=\"dataframe\">\n",
       "  <thead>\n",
       "    <tr style=\"text-align: right;\">\n",
       "      <th></th>\n",
       "      <th>station_id</th>\n",
       "      <th>name</th>\n",
       "      <th>lat</th>\n",
       "      <th>long</th>\n",
       "      <th>dockcount</th>\n",
       "      <th>landmark</th>\n",
       "      <th>installation</th>\n",
       "    </tr>\n",
       "  </thead>\n",
       "  <tbody>\n",
       "    <tr>\n",
       "      <th>0</th>\n",
       "      <td>2</td>\n",
       "      <td>San Jose Diridon Caltrain Station</td>\n",
       "      <td>37.329732</td>\n",
       "      <td>-121.901782</td>\n",
       "      <td>27</td>\n",
       "      <td>San Jose</td>\n",
       "      <td>8/6/2013</td>\n",
       "    </tr>\n",
       "    <tr>\n",
       "      <th>1</th>\n",
       "      <td>3</td>\n",
       "      <td>San Jose Civic Center</td>\n",
       "      <td>37.330698</td>\n",
       "      <td>-121.888979</td>\n",
       "      <td>15</td>\n",
       "      <td>San Jose</td>\n",
       "      <td>8/5/2013</td>\n",
       "    </tr>\n",
       "    <tr>\n",
       "      <th>2</th>\n",
       "      <td>4</td>\n",
       "      <td>Santa Clara at Almaden</td>\n",
       "      <td>37.333988</td>\n",
       "      <td>-121.894902</td>\n",
       "      <td>11</td>\n",
       "      <td>San Jose</td>\n",
       "      <td>8/6/2013</td>\n",
       "    </tr>\n",
       "    <tr>\n",
       "      <th>3</th>\n",
       "      <td>5</td>\n",
       "      <td>Adobe on Almaden</td>\n",
       "      <td>37.331415</td>\n",
       "      <td>-121.893200</td>\n",
       "      <td>19</td>\n",
       "      <td>San Jose</td>\n",
       "      <td>8/5/2013</td>\n",
       "    </tr>\n",
       "    <tr>\n",
       "      <th>4</th>\n",
       "      <td>6</td>\n",
       "      <td>San Pedro Square</td>\n",
       "      <td>37.336721</td>\n",
       "      <td>-121.894074</td>\n",
       "      <td>15</td>\n",
       "      <td>San Jose</td>\n",
       "      <td>8/7/2013</td>\n",
       "    </tr>\n",
       "  </tbody>\n",
       "</table>\n",
       "</div>"
      ],
      "text/plain": [
       "   station_id                               name        lat        long  \\\n",
       "0           2  San Jose Diridon Caltrain Station  37.329732 -121.901782   \n",
       "1           3              San Jose Civic Center  37.330698 -121.888979   \n",
       "2           4             Santa Clara at Almaden  37.333988 -121.894902   \n",
       "3           5                   Adobe on Almaden  37.331415 -121.893200   \n",
       "4           6                   San Pedro Square  37.336721 -121.894074   \n",
       "\n",
       "   dockcount  landmark installation  \n",
       "0         27  San Jose     8/6/2013  \n",
       "1         15  San Jose     8/5/2013  \n",
       "2         11  San Jose     8/6/2013  \n",
       "3         19  San Jose     8/5/2013  \n",
       "4         15  San Jose     8/7/2013  "
      ]
     },
     "execution_count": 65,
     "metadata": {},
     "output_type": "execute_result"
    }
   ],
   "source": [
    "station_df.head(5)"
   ]
  },
  {
   "cell_type": "code",
   "execution_count": 68,
   "metadata": {},
   "outputs": [
    {
     "data": {
      "text/plain": [
       "0      2\n",
       "1      3\n",
       "2      4\n",
       "3      5\n",
       "4      6\n",
       "5      7\n",
       "6      8\n",
       "7      9\n",
       "8     10\n",
       "9     11\n",
       "10    12\n",
       "11    13\n",
       "12    14\n",
       "13    16\n",
       "14    21\n",
       "15    22\n",
       "16    23\n",
       "17    24\n",
       "18    25\n",
       "19    26\n",
       "20    27\n",
       "21    28\n",
       "22    29\n",
       "23    30\n",
       "24    31\n",
       "25    32\n",
       "26    33\n",
       "27    34\n",
       "28    35\n",
       "29    36\n",
       "      ..\n",
       "40    50\n",
       "41    51\n",
       "42    54\n",
       "43    55\n",
       "44    56\n",
       "45    57\n",
       "46    58\n",
       "47    59\n",
       "48    60\n",
       "49    61\n",
       "50    62\n",
       "51    63\n",
       "52    64\n",
       "53    65\n",
       "54    66\n",
       "55    67\n",
       "56    68\n",
       "57    69\n",
       "58    70\n",
       "59    71\n",
       "60    72\n",
       "61    73\n",
       "62    74\n",
       "63    75\n",
       "64    76\n",
       "65    77\n",
       "66    80\n",
       "67    82\n",
       "68    83\n",
       "69    84\n",
       "Name: station_id, Length: 70, dtype: int32"
      ]
     },
     "execution_count": 68,
     "metadata": {},
     "output_type": "execute_result"
    }
   ],
   "source": [
    "station_df['station_id'].astype(int)"
   ]
  },
  {
   "cell_type": "code",
   "execution_count": 41,
   "metadata": {
    "collapsed": true
   },
   "outputs": [],
   "source": [
    "import datetime"
   ]
  },
  {
   "cell_type": "code",
   "execution_count": 42,
   "metadata": {},
   "outputs": [],
   "source": [
    "station_df['installation'] = pd.to_datetime(station_df['installation'])"
   ]
  },
  {
   "cell_type": "code",
   "execution_count": 43,
   "metadata": {},
   "outputs": [],
   "source": [
    "station_df['station_id'] = pd.to_numeric(station_df['station_id'])\n",
    "station_df['lat'] = pd.to_numeric(station_df['lat'])\n",
    "station_df['long'] = pd.to_numeric(station_df['long'])\n",
    "station_df['dockcount'] = pd.to_numeric(station_df['dockcount'])"
   ]
  },
  {
   "cell_type": "code",
   "execution_count": 69,
   "metadata": {},
   "outputs": [
    {
     "data": {
      "text/plain": [
       "station_id        int64\n",
       "name             object\n",
       "lat             float64\n",
       "long            float64\n",
       "dockcount         int64\n",
       "landmark         object\n",
       "installation     object\n",
       "dtype: object"
      ]
     },
     "execution_count": 69,
     "metadata": {},
     "output_type": "execute_result"
    }
   ],
   "source": [
    "station_df.dtypes"
   ]
  },
  {
   "cell_type": "code",
   "execution_count": 60,
   "metadata": {},
   "outputs": [
    {
     "data": {
      "text/plain": [
       "numpy.float64"
      ]
     },
     "execution_count": 60,
     "metadata": {},
     "output_type": "execute_result"
    }
   ],
   "source": [
    "asstation_df['long'][0])"
   ]
  },
  {
   "cell_type": "code",
   "execution_count": 62,
   "metadata": {},
   "outputs": [
    {
     "data": {
      "text/plain": [
       "<bound method DataFrame.to_json of     station_id                                           name        lat  \\\n",
       "0            2              San Jose Diridon Caltrain Station  37.329732   \n",
       "1            3                          San Jose Civic Center  37.330698   \n",
       "2            4                         Santa Clara at Almaden  37.333988   \n",
       "3            5                               Adobe on Almaden  37.331415   \n",
       "4            6                               San Pedro Square  37.336721   \n",
       "5            7                           Paseo de San Antonio  37.333798   \n",
       "6            8                            San Salvador at 1st  37.330165   \n",
       "7            9                                      Japantown  37.348742   \n",
       "8           10                             San Jose City Hall  37.337391   \n",
       "9           11                                    MLK Library  37.335885   \n",
       "10          12                         SJSU 4th at San Carlos  37.332808   \n",
       "11          13                                  St James Park  37.339301   \n",
       "12          14                       Arena Green / SAP Center  37.332692   \n",
       "13          16                     SJSU - San Salvador at 9th  37.333955   \n",
       "14          21                              Franklin at Maple  37.481758   \n",
       "15          22                  Redwood City Caltrain Station  37.486078   \n",
       "16          23                        San Mateo County Center  37.488501   \n",
       "17          24                    Redwood City Public Library  37.484219   \n",
       "18          25                               Broadway at Main  37.486725   \n",
       "19          26                    Redwood City Medical Center  37.487682   \n",
       "20          27                        Mountain View City Hall  37.389218   \n",
       "21          28                 Mountain View Caltrain Station  37.394358   \n",
       "22          29                   San Antonio Caltrain Station  37.406940   \n",
       "23          30                           Evelyn Park and Ride  37.390277   \n",
       "24          31                    San Antonio Shopping Center  37.400443   \n",
       "25          32               Castro Street and El Camino Real  37.385956   \n",
       "26          33          Rengstorff Avenue / California Street  37.400241   \n",
       "27          34                     Palo Alto Caltrain Station  37.443988   \n",
       "28          35                         University and Emerson  37.444521   \n",
       "29          36                California Ave Caltrain Station  37.429082   \n",
       "..         ...                                            ...        ...   \n",
       "40          50           Harry Bridges Plaza (Ferry Building)  37.795392   \n",
       "41          51                          Embarcadero at Folsom  37.791464   \n",
       "42          54                          Embarcadero at Bryant  37.787152   \n",
       "43          55  Temporary Transbay Terminal (Howard at Beale)  37.789756   \n",
       "44          56                                Beale at Market  37.792251   \n",
       "45          57                                  5th at Howard  37.781752   \n",
       "46          58                        San Francisco City Hall  37.778650   \n",
       "47          59                            Golden Gate at Polk  37.781332   \n",
       "48          60                         Embarcadero at Sansome  37.804770   \n",
       "49          61                                2nd at Townsend  37.780526   \n",
       "50          62                                  2nd at Folsom  37.785299   \n",
       "51          63                                  Howard at 2nd  37.786978   \n",
       "52          64                              2nd at South Park  37.782259   \n",
       "53          65                                Townsend at 7th  37.771058   \n",
       "54          66                       South Van Ness at Market  37.774814   \n",
       "55          67                                 Market at 10th  37.776619   \n",
       "56          68  Yerba Buena Center of the Arts (3rd @ Howard)  37.784878   \n",
       "57          69        San Francisco Caltrain 2 (330 Townsend)  37.776377   \n",
       "58          70       San Francisco Caltrain (Townsend at 4th)  37.776617   \n",
       "59          71                  Powell at Post (Union Square)  37.788446   \n",
       "60          72              Civic Center BART (7th at Market)  37.780356   \n",
       "61          73                Grant Avenue at Columbus Avenue  37.798522   \n",
       "62          74                              Steuart at Market  37.794139   \n",
       "63          75            Mechanics Plaza (Market at Battery)  37.791300   \n",
       "64          76                                  Market at 4th  37.786305   \n",
       "65          77                              Market at Sansome  37.789625   \n",
       "66          80                     San Jose Government Center  37.352601   \n",
       "67          82                      Broadway St at Battery St  37.798541   \n",
       "68          83                                     Mezes Park  37.491269   \n",
       "69          84                                    Ryland Park  37.342725   \n",
       "\n",
       "          long  dockcount       landmark installation  \n",
       "0  -121.901782         27       San Jose   2013-08-06  \n",
       "1  -121.888979         15       San Jose   2013-08-05  \n",
       "2  -121.894902         11       San Jose   2013-08-06  \n",
       "3  -121.893200         19       San Jose   2013-08-05  \n",
       "4  -121.894074         15       San Jose   2013-08-07  \n",
       "5  -121.886943         15       San Jose   2013-08-07  \n",
       "6  -121.885831         15       San Jose   2013-08-05  \n",
       "7  -121.894715         15       San Jose   2013-08-05  \n",
       "8  -121.886995         15       San Jose   2013-08-06  \n",
       "9  -121.885660         19       San Jose   2013-08-06  \n",
       "10 -121.883891         19       San Jose   2013-08-07  \n",
       "11 -121.889937         15       San Jose   2013-08-06  \n",
       "12 -121.900084         19       San Jose   2013-08-05  \n",
       "13 -121.877349         15       San Jose   2013-08-07  \n",
       "14 -122.226904         15   Redwood City   2013-08-12  \n",
       "15 -122.232089         25   Redwood City   2013-08-15  \n",
       "16 -122.231061         15   Redwood City   2013-08-15  \n",
       "17 -122.227424         15   Redwood City   2013-08-12  \n",
       "18 -122.225551         15   Redwood City   2013-08-12  \n",
       "19 -122.223492         15   Redwood City   2013-08-12  \n",
       "20 -122.081896         15  Mountain View   2013-08-16  \n",
       "21 -122.076713         23  Mountain View   2013-08-15  \n",
       "22 -122.106758         23  Mountain View   2013-08-15  \n",
       "23 -122.066553         15  Mountain View   2013-08-16  \n",
       "24 -122.108338         15  Mountain View   2013-12-31  \n",
       "25 -122.083678         11  Mountain View   2013-12-31  \n",
       "26 -122.099076         15  Mountain View   2013-08-16  \n",
       "27 -122.164759         23      Palo Alto   2013-08-14  \n",
       "28 -122.163093         11      Palo Alto   2013-08-15  \n",
       "29 -122.142805         15      Palo Alto   2013-08-14  \n",
       "..         ...        ...            ...          ...  \n",
       "40 -122.394203         23  San Francisco   2013-08-20  \n",
       "41 -122.391034         19  San Francisco   2013-08-20  \n",
       "42 -122.388013         15  San Francisco   2013-08-20  \n",
       "43 -122.394643         23  San Francisco   2013-08-20  \n",
       "44 -122.397086         19  San Francisco   2013-08-20  \n",
       "45 -122.405127         15  San Francisco   2013-08-21  \n",
       "46 -122.418235         19  San Francisco   2013-08-21  \n",
       "47 -122.418603         23  San Francisco   2013-08-21  \n",
       "48 -122.403234         15  San Francisco   2013-08-21  \n",
       "49 -122.390288         27  San Francisco   2013-08-22  \n",
       "50 -122.396236         19  San Francisco   2013-08-22  \n",
       "51 -122.398108         19  San Francisco   2013-08-22  \n",
       "52 -122.392738         15  San Francisco   2013-08-22  \n",
       "53 -122.402717         15  San Francisco   2013-08-22  \n",
       "54 -122.418954         19  San Francisco   2013-08-23  \n",
       "55 -122.417385         27  San Francisco   2013-08-23  \n",
       "56 -122.401014         19  San Francisco   2013-08-23  \n",
       "57 -122.396070         23  San Francisco   2013-08-23  \n",
       "58 -122.395260         19  San Francisco   2013-08-23  \n",
       "59 -122.408499         19  San Francisco   2013-08-23  \n",
       "60 -122.412919         23  San Francisco   2013-08-23  \n",
       "61 -122.407245         15  San Francisco   2013-08-21  \n",
       "62 -122.394434         23  San Francisco   2013-08-25  \n",
       "63 -122.399051         19  San Francisco   2013-08-25  \n",
       "64 -122.404966         19  San Francisco   2013-08-25  \n",
       "65 -122.400811         27  San Francisco   2013-08-25  \n",
       "66 -121.905733         15       San Jose   2013-12-31  \n",
       "67 -122.400862         15  San Francisco   2014-01-22  \n",
       "68 -122.236234         15   Redwood City   2014-02-20  \n",
       "69 -121.895617         15       San Jose   2014-04-09  \n",
       "\n",
       "[70 rows x 7 columns]>"
      ]
     },
     "execution_count": 62,
     "metadata": {},
     "output_type": "execute_result"
    }
   ],
   "source": []
  },
  {
   "cell_type": "code",
   "execution_count": null,
   "metadata": {
    "collapsed": true
   },
   "outputs": [],
   "source": []
  }
 ],
 "metadata": {
  "kernelspec": {
   "display_name": "Python [conda root]",
   "language": "python",
   "name": "conda-root-py"
  },
  "language_info": {
   "codemirror_mode": {
    "name": "ipython",
    "version": 2
   },
   "file_extension": ".py",
   "mimetype": "text/x-python",
   "name": "python",
   "nbconvert_exporter": "python",
   "pygments_lexer": "ipython2",
   "version": "2.7.14"
  }
 },
 "nbformat": 4,
 "nbformat_minor": 2
}
