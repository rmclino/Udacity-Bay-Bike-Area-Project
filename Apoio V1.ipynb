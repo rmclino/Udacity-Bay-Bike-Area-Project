{
 "cells": [
  {
   "cell_type": "code",
   "execution_count": 71,
   "metadata": {
    "collapsed": true
   },
   "outputs": [],
   "source": [
    "# Importa todas as bibliotecas necessárias\n",
    "%matplotlib inline\n",
    "import csv\n",
    "from datetime import datetime\n",
    "import numpy as np\n",
    "import pandas as pd\n",
    "from babs_datacheck import question_3\n",
    "from babs_visualizations import usage_stats, usage_plot\n",
    "from IPython.display import display"
   ]
  },
  {
   "cell_type": "code",
   "execution_count": 91,
   "metadata": {},
   "outputs": [
    {
     "name": "stdout",
     "output_type": "stream",
     "text": [
      "597517\n",
      "60\n",
      "Trip ID                                        32121\n",
      "Duration                                      597517\n",
      "Start Date                           9/23/2013 18:24\n",
      "Start Station        California Ave Caltrain Station\n",
      "Start Terminal                                    36\n",
      "End Date                             9/30/2013 16:23\n",
      "End Station               Palo Alto Caltrain Station\n",
      "End Terminal                                      34\n",
      "Bike #                                           168\n",
      "Subscription Type                           Customer\n",
      "Zip Code                                       95051\n",
      "Name: 20535, dtype: object\n"
     ]
    }
   ],
   "source": [
    "sample_data = pd.read_csv('201309_trip_data.csv')\n",
    "\n",
    "# TODO: escreva o código para visualizar as primeiras linhas\n",
    "sample_data.head()\n",
    "print sample_data['Duration'].max()\n",
    "print sample_data['Duration'].min()\n",
    "print sample_data.loc[sample_data['Duration'].argmax()]"
   ]
  },
  {
   "cell_type": "code",
   "execution_count": 89,
   "metadata": {},
   "outputs": [],
   "source": [
    "b = sample_data.loc[(sample_data['Duration'] > 3*60*60*24)]"
   ]
  },
  {
   "cell_type": "code",
   "execution_count": 90,
   "metadata": {},
   "outputs": [
    {
     "data": {
      "text/plain": [
       "<bound method Series.max of 12725    309479\n",
       "20535    597517\n",
       "24068    329456\n",
       "26624    272839\n",
       "Name: Duration, dtype: int64>"
      ]
     },
     "execution_count": 90,
     "metadata": {},
     "output_type": "execute_result"
    }
   ],
   "source": [
    "b['Duration'].max"
   ]
  },
  {
   "cell_type": "code",
   "execution_count": 41,
   "metadata": {
    "collapsed": true
   },
   "outputs": [],
   "source": [
    "import datetime"
   ]
  },
  {
   "cell_type": "code",
   "execution_count": 42,
   "metadata": {},
   "outputs": [],
   "source": [
    "station_df['installation'] = pd.to_datetime(station_df['installation'])"
   ]
  },
  {
   "cell_type": "code",
   "execution_count": 43,
   "metadata": {},
   "outputs": [],
   "source": [
    "station_df['station_id'] = pd.to_numeric(station_df['station_id'])\n",
    "station_df['lat'] = pd.to_numeric(station_df['lat'])\n",
    "station_df['long'] = pd.to_numeric(station_df['long'])\n",
    "station_df['dockcount'] = pd.to_numeric(station_df['dockcount'])"
   ]
  },
  {
   "cell_type": "code",
   "execution_count": 69,
   "metadata": {},
   "outputs": [
    {
     "data": {
      "text/plain": [
       "station_id        int64\n",
       "name             object\n",
       "lat             float64\n",
       "long            float64\n",
       "dockcount         int64\n",
       "landmark         object\n",
       "installation     object\n",
       "dtype: object"
      ]
     },
     "execution_count": 69,
     "metadata": {},
     "output_type": "execute_result"
    }
   ],
   "source": [
    "station_df.dtypes"
   ]
  },
  {
   "cell_type": "code",
   "execution_count": 70,
   "metadata": {},
   "outputs": [
    {
     "name": "stdout",
     "output_type": "stream",
     "text": [
      "0                 San Jose Diridon Caltrain Station\n",
      "1                             San Jose Civic Center\n",
      "2                            Santa Clara at Almaden\n",
      "3                                  Adobe on Almaden\n",
      "4                                  San Pedro Square\n",
      "5                              Paseo de San Antonio\n",
      "6                               San Salvador at 1st\n",
      "7                                         Japantown\n",
      "8                                San Jose City Hall\n",
      "9                                       MLK Library\n",
      "10                           SJSU 4th at San Carlos\n",
      "11                                    St James Park\n",
      "12                         Arena Green / SAP Center\n",
      "13                       SJSU - San Salvador at 9th\n",
      "14                                Franklin at Maple\n",
      "15                    Redwood City Caltrain Station\n",
      "16                          San Mateo County Center\n",
      "17                      Redwood City Public Library\n",
      "18                                 Broadway at Main\n",
      "19                      Redwood City Medical Center\n",
      "20                          Mountain View City Hall\n",
      "21                   Mountain View Caltrain Station\n",
      "22                     San Antonio Caltrain Station\n",
      "23                             Evelyn Park and Ride\n",
      "24                      San Antonio Shopping Center\n",
      "25                 Castro Street and El Camino Real\n",
      "26            Rengstorff Avenue / California Street\n",
      "27                       Palo Alto Caltrain Station\n",
      "28                           University and Emerson\n",
      "29                  California Ave Caltrain Station\n",
      "                          ...                      \n",
      "40             Harry Bridges Plaza (Ferry Building)\n",
      "41                            Embarcadero at Folsom\n",
      "42                            Embarcadero at Bryant\n",
      "43    Temporary Transbay Terminal (Howard at Beale)\n",
      "44                                  Beale at Market\n",
      "45                                    5th at Howard\n",
      "46                          San Francisco City Hall\n",
      "47                              Golden Gate at Polk\n",
      "48                           Embarcadero at Sansome\n",
      "49                                  2nd at Townsend\n",
      "50                                    2nd at Folsom\n",
      "51                                    Howard at 2nd\n",
      "52                                2nd at South Park\n",
      "53                                  Townsend at 7th\n",
      "54                         South Van Ness at Market\n",
      "55                                   Market at 10th\n",
      "56    Yerba Buena Center of the Arts (3rd @ Howard)\n",
      "57          San Francisco Caltrain 2 (330 Townsend)\n",
      "58         San Francisco Caltrain (Townsend at 4th)\n",
      "59                    Powell at Post (Union Square)\n",
      "60                Civic Center BART (7th at Market)\n",
      "61                  Grant Avenue at Columbus Avenue\n",
      "62                                Steuart at Market\n",
      "63              Mechanics Plaza (Market at Battery)\n",
      "64                                    Market at 4th\n",
      "65                                Market at Sansome\n",
      "66                       San Jose Government Center\n",
      "67                        Broadway St at Battery St\n",
      "68                                       Mezes Park\n",
      "69                                      Ryland Park\n",
      "Name: name, Length: 70, dtype: object\n"
     ]
    }
   ],
   "source": [
    "print station_df['name']"
   ]
  },
  {
   "cell_type": "code",
   "execution_count": 62,
   "metadata": {},
   "outputs": [
    {
     "data": {
      "text/plain": [
       "<bound method DataFrame.to_json of     station_id                                           name        lat  \\\n",
       "0            2              San Jose Diridon Caltrain Station  37.329732   \n",
       "1            3                          San Jose Civic Center  37.330698   \n",
       "2            4                         Santa Clara at Almaden  37.333988   \n",
       "3            5                               Adobe on Almaden  37.331415   \n",
       "4            6                               San Pedro Square  37.336721   \n",
       "5            7                           Paseo de San Antonio  37.333798   \n",
       "6            8                            San Salvador at 1st  37.330165   \n",
       "7            9                                      Japantown  37.348742   \n",
       "8           10                             San Jose City Hall  37.337391   \n",
       "9           11                                    MLK Library  37.335885   \n",
       "10          12                         SJSU 4th at San Carlos  37.332808   \n",
       "11          13                                  St James Park  37.339301   \n",
       "12          14                       Arena Green / SAP Center  37.332692   \n",
       "13          16                     SJSU - San Salvador at 9th  37.333955   \n",
       "14          21                              Franklin at Maple  37.481758   \n",
       "15          22                  Redwood City Caltrain Station  37.486078   \n",
       "16          23                        San Mateo County Center  37.488501   \n",
       "17          24                    Redwood City Public Library  37.484219   \n",
       "18          25                               Broadway at Main  37.486725   \n",
       "19          26                    Redwood City Medical Center  37.487682   \n",
       "20          27                        Mountain View City Hall  37.389218   \n",
       "21          28                 Mountain View Caltrain Station  37.394358   \n",
       "22          29                   San Antonio Caltrain Station  37.406940   \n",
       "23          30                           Evelyn Park and Ride  37.390277   \n",
       "24          31                    San Antonio Shopping Center  37.400443   \n",
       "25          32               Castro Street and El Camino Real  37.385956   \n",
       "26          33          Rengstorff Avenue / California Street  37.400241   \n",
       "27          34                     Palo Alto Caltrain Station  37.443988   \n",
       "28          35                         University and Emerson  37.444521   \n",
       "29          36                California Ave Caltrain Station  37.429082   \n",
       "..         ...                                            ...        ...   \n",
       "40          50           Harry Bridges Plaza (Ferry Building)  37.795392   \n",
       "41          51                          Embarcadero at Folsom  37.791464   \n",
       "42          54                          Embarcadero at Bryant  37.787152   \n",
       "43          55  Temporary Transbay Terminal (Howard at Beale)  37.789756   \n",
       "44          56                                Beale at Market  37.792251   \n",
       "45          57                                  5th at Howard  37.781752   \n",
       "46          58                        San Francisco City Hall  37.778650   \n",
       "47          59                            Golden Gate at Polk  37.781332   \n",
       "48          60                         Embarcadero at Sansome  37.804770   \n",
       "49          61                                2nd at Townsend  37.780526   \n",
       "50          62                                  2nd at Folsom  37.785299   \n",
       "51          63                                  Howard at 2nd  37.786978   \n",
       "52          64                              2nd at South Park  37.782259   \n",
       "53          65                                Townsend at 7th  37.771058   \n",
       "54          66                       South Van Ness at Market  37.774814   \n",
       "55          67                                 Market at 10th  37.776619   \n",
       "56          68  Yerba Buena Center of the Arts (3rd @ Howard)  37.784878   \n",
       "57          69        San Francisco Caltrain 2 (330 Townsend)  37.776377   \n",
       "58          70       San Francisco Caltrain (Townsend at 4th)  37.776617   \n",
       "59          71                  Powell at Post (Union Square)  37.788446   \n",
       "60          72              Civic Center BART (7th at Market)  37.780356   \n",
       "61          73                Grant Avenue at Columbus Avenue  37.798522   \n",
       "62          74                              Steuart at Market  37.794139   \n",
       "63          75            Mechanics Plaza (Market at Battery)  37.791300   \n",
       "64          76                                  Market at 4th  37.786305   \n",
       "65          77                              Market at Sansome  37.789625   \n",
       "66          80                     San Jose Government Center  37.352601   \n",
       "67          82                      Broadway St at Battery St  37.798541   \n",
       "68          83                                     Mezes Park  37.491269   \n",
       "69          84                                    Ryland Park  37.342725   \n",
       "\n",
       "          long  dockcount       landmark installation  \n",
       "0  -121.901782         27       San Jose   2013-08-06  \n",
       "1  -121.888979         15       San Jose   2013-08-05  \n",
       "2  -121.894902         11       San Jose   2013-08-06  \n",
       "3  -121.893200         19       San Jose   2013-08-05  \n",
       "4  -121.894074         15       San Jose   2013-08-07  \n",
       "5  -121.886943         15       San Jose   2013-08-07  \n",
       "6  -121.885831         15       San Jose   2013-08-05  \n",
       "7  -121.894715         15       San Jose   2013-08-05  \n",
       "8  -121.886995         15       San Jose   2013-08-06  \n",
       "9  -121.885660         19       San Jose   2013-08-06  \n",
       "10 -121.883891         19       San Jose   2013-08-07  \n",
       "11 -121.889937         15       San Jose   2013-08-06  \n",
       "12 -121.900084         19       San Jose   2013-08-05  \n",
       "13 -121.877349         15       San Jose   2013-08-07  \n",
       "14 -122.226904         15   Redwood City   2013-08-12  \n",
       "15 -122.232089         25   Redwood City   2013-08-15  \n",
       "16 -122.231061         15   Redwood City   2013-08-15  \n",
       "17 -122.227424         15   Redwood City   2013-08-12  \n",
       "18 -122.225551         15   Redwood City   2013-08-12  \n",
       "19 -122.223492         15   Redwood City   2013-08-12  \n",
       "20 -122.081896         15  Mountain View   2013-08-16  \n",
       "21 -122.076713         23  Mountain View   2013-08-15  \n",
       "22 -122.106758         23  Mountain View   2013-08-15  \n",
       "23 -122.066553         15  Mountain View   2013-08-16  \n",
       "24 -122.108338         15  Mountain View   2013-12-31  \n",
       "25 -122.083678         11  Mountain View   2013-12-31  \n",
       "26 -122.099076         15  Mountain View   2013-08-16  \n",
       "27 -122.164759         23      Palo Alto   2013-08-14  \n",
       "28 -122.163093         11      Palo Alto   2013-08-15  \n",
       "29 -122.142805         15      Palo Alto   2013-08-14  \n",
       "..         ...        ...            ...          ...  \n",
       "40 -122.394203         23  San Francisco   2013-08-20  \n",
       "41 -122.391034         19  San Francisco   2013-08-20  \n",
       "42 -122.388013         15  San Francisco   2013-08-20  \n",
       "43 -122.394643         23  San Francisco   2013-08-20  \n",
       "44 -122.397086         19  San Francisco   2013-08-20  \n",
       "45 -122.405127         15  San Francisco   2013-08-21  \n",
       "46 -122.418235         19  San Francisco   2013-08-21  \n",
       "47 -122.418603         23  San Francisco   2013-08-21  \n",
       "48 -122.403234         15  San Francisco   2013-08-21  \n",
       "49 -122.390288         27  San Francisco   2013-08-22  \n",
       "50 -122.396236         19  San Francisco   2013-08-22  \n",
       "51 -122.398108         19  San Francisco   2013-08-22  \n",
       "52 -122.392738         15  San Francisco   2013-08-22  \n",
       "53 -122.402717         15  San Francisco   2013-08-22  \n",
       "54 -122.418954         19  San Francisco   2013-08-23  \n",
       "55 -122.417385         27  San Francisco   2013-08-23  \n",
       "56 -122.401014         19  San Francisco   2013-08-23  \n",
       "57 -122.396070         23  San Francisco   2013-08-23  \n",
       "58 -122.395260         19  San Francisco   2013-08-23  \n",
       "59 -122.408499         19  San Francisco   2013-08-23  \n",
       "60 -122.412919         23  San Francisco   2013-08-23  \n",
       "61 -122.407245         15  San Francisco   2013-08-21  \n",
       "62 -122.394434         23  San Francisco   2013-08-25  \n",
       "63 -122.399051         19  San Francisco   2013-08-25  \n",
       "64 -122.404966         19  San Francisco   2013-08-25  \n",
       "65 -122.400811         27  San Francisco   2013-08-25  \n",
       "66 -121.905733         15       San Jose   2013-12-31  \n",
       "67 -122.400862         15  San Francisco   2014-01-22  \n",
       "68 -122.236234         15   Redwood City   2014-02-20  \n",
       "69 -121.895617         15       San Jose   2014-04-09  \n",
       "\n",
       "[70 rows x 7 columns]>"
      ]
     },
     "execution_count": 62,
     "metadata": {},
     "output_type": "execute_result"
    }
   ],
   "source": []
  },
  {
   "cell_type": "code",
   "execution_count": 95,
   "metadata": {},
   "outputs": [
    {
     "name": "stdout",
     "output_type": "stream",
     "text": [
      "teste_100\n"
     ]
    },
    {
     "data": {
      "text/plain": [
       "str"
      ]
     },
     "execution_count": 95,
     "metadata": {},
     "output_type": "execute_result"
    }
   ],
   "source": [
    "num_sample_rows = 100\n",
    "file_in = 'teste'\n",
    "file_out = file_in + '_' + str(num_sample_rows)\n",
    "print file_out\n",
    "type(file_out)"
   ]
  },
  {
   "cell_type": "code",
   "execution_count": null,
   "metadata": {
    "collapsed": true
   },
   "outputs": [],
   "source": []
  }
 ],
 "metadata": {
  "kernelspec": {
   "display_name": "Python [conda root]",
   "language": "python",
   "name": "conda-root-py"
  },
  "language_info": {
   "codemirror_mode": {
    "name": "ipython",
    "version": 2
   },
   "file_extension": ".py",
   "mimetype": "text/x-python",
   "name": "python",
   "nbconvert_exporter": "python",
   "pygments_lexer": "ipython2",
   "version": "2.7.14"
  }
 },
 "nbformat": 4,
 "nbformat_minor": 2
}
